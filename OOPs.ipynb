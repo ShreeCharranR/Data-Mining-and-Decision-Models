{
 "cells": [
  {
   "cell_type": "code",
   "execution_count": 51,
   "metadata": {},
   "outputs": [],
   "source": [
    "import numpy as np\n",
    "import matplotlib.pyplot as plt"
   ]
  },
  {
   "cell_type": "code",
   "execution_count": 88,
   "metadata": {},
   "outputs": [],
   "source": [
    "class random_sample:\n",
    "    \n",
    "    def __init__(self, nsamp, narray):\n",
    "        self.__nsamp__ = nsamp\n",
    "        self.__narray__ = narray\n",
    "        self.__rand_array__ = np.random.random_sample((nsamp,narray))\n",
    "        \n",
    "            \n",
    "    def print_random(self):\n",
    "        print(self.__rand_array__)\n",
    "    \n",
    "    def mean_x(self):\n",
    "        print(np.mean(self.__rand_array__, axis=1))\n",
    "        \n",
    "    def mean_y(self):\n",
    "        return(np.mean(self.__rand_array__, axis=0))\n",
    "    \n",
    "    def hist(self):\n",
    "        for i in range(self.__narray__):\n",
    "            self.__bins__ = np.linspace(0,1, 50)\n",
    "            plt.hist(self.__rand_array__[:,i],self.__bins__, alpha=0.5, label='array'+str(i+1))\n",
    "            plt.legend(loc='upper right')\n",
    "        plt.show()\n",
    "        "
   ]
  },
  {
   "cell_type": "code",
   "execution_count": 89,
   "metadata": {},
   "outputs": [],
   "source": [
    "array1 = random_sample(100,3)"
   ]
  },
  {
   "cell_type": "code",
   "execution_count": 90,
   "metadata": {},
   "outputs": [
    {
     "data": {
      "image/png": "[encoded data removed]",
      "text/plain": [
       "<Figure size 432x288 with 1 Axes>"
      ]
     },
     "metadata": {},
     "output_type": "display_data"
    }
   ],
   "source": [
    "array1.hist()"
   ]
  },
  {
   "cell_type": "code",
   "execution_count": 84,
   "metadata": {},
   "outputs": [
    {
     "data": {
      "text/plain": [
       "array([0.49408286, 0.54714124, 0.54379085])"
      ]
     },
     "execution_count": 84,
     "metadata": {},
     "output_type": "execute_result"
    }
   ],
   "source": [
    "array1.mean_y()"
   ]
  },
  {
   "cell_type": "code",
   "execution_count": 85,
   "metadata": {},
   "outputs": [],
   "source": [
    "array2 = random_sample(5,10)\n"
   ]
  },
  {
   "cell_type": "code",
   "execution_count": 86,
   "metadata": {},
   "outputs": [
    {
     "name": "stdout",
     "output_type": "stream",
     "text": [
      "[[0.87493908 0.23214947 0.50693233 0.33862429 0.02346712 0.60929046\n",
      "  0.57346692 0.6584363  0.24766264 0.01400618]\n",
      " [0.5023529  0.6545818  0.40249015 0.07209046 0.60763079 0.2126068\n",
      "  0.89327362 0.58543783 0.57026251 0.35990262]\n",
      " [0.48240517 0.52068898 0.27231101 0.88077723 0.1144809  0.3721695\n",
      "  0.35606939 0.91675964 0.17007595 0.0739707 ]\n",
      " [0.0571783  0.50857836 0.46376689 0.62375612 0.38144594 0.62688228\n",
      "  0.0291792  0.17309901 0.54920779 0.47819613]\n",
      " [0.88559433 0.7430069  0.86456828 0.87375459 0.44479812 0.38900168\n",
      "  0.59147413 0.25563958 0.28736335 0.9910375 ]]\n"
     ]
    }
   ],
   "source": [
    "array2.print_random()"
   ]
  },
  {
   "cell_type": "code",
   "execution_count": 87,
   "metadata": {},
   "outputs": [
    {
     "name": "stdout",
     "output_type": "stream",
     "text": [
      "[0.40789748 0.48606295 0.41597085 0.389129   0.63262385]\n"
     ]
    }
   ],
   "source": [
    "array2.mean_x()"
   ]
  }
 ],
 "metadata": {
  "kernelspec": {
   "display_name": "Python 3",
   "language": "python",
   "name": "python3"
  },
  "language_info": {
   "codemirror_mode": {
    "name": "ipython",
    "version": 3
   },
   "file_extension": ".py",
   "mimetype": "text/x-python",
   "name": "python",
   "nbconvert_exporter": "python",
   "pygments_lexer": "ipython3",
   "version": "3.6.4"
  }
 },
 "nbformat": 4,
 "nbformat_minor": 2
}
