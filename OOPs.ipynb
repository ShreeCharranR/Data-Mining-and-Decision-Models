{
 "cells": [
  {
   "cell_type": "code",
   "execution_count": 4,
   "metadata": {},
   "outputs": [],
   "source": [
    "import numpy as np"
   ]
  },
  {
   "cell_type": "code",
   "execution_count": 42,
   "metadata": {},
   "outputs": [],
   "source": [
    "class random_sample:\n",
    "    def __init__(self, nsamp, narray):\n",
    "        self.__nsamp__ = nsamp\n",
    "        self.__narray__ = narray\n",
    "        self.__rand_array__ = np.random.random_sample((nsamp,narray))\n",
    "            \n",
    "    def print_random(self):\n",
    "        print(self.__rand_array__)\n",
    "    \n",
    "    def mean_x(self):\n",
    "        print(np.mean(self.__rand_array__, axis=1))\n",
    "        \n",
    "    def mean_y(self):\n",
    "        return(np.mean(self.__rand_array__, axis=0))\n",
    "        "
   ]
  },
  {
   "cell_type": "code",
   "execution_count": 43,
   "metadata": {},
   "outputs": [],
   "source": [
    "array1 = random_sample(3,2)"
   ]
  },
  {
   "cell_type": "code",
   "execution_count": 47,
   "metadata": {},
   "outputs": [
    {
     "data": {
      "text/plain": [
       "numpy.ndarray"
      ]
     },
     "execution_count": 47,
     "metadata": {},
     "output_type": "execute_result"
    }
   ],
   "source": [
    "type(array1.mean_y())"
   ]
  },
  {
   "cell_type": "code",
   "execution_count": 41,
   "metadata": {},
   "outputs": [
    {
     "name": "stdout",
     "output_type": "stream",
     "text": [
      "[[0.77342531 0.99945955]\n",
      " [0.14784489 0.29390676]\n",
      " [0.83251319 0.98709685]]\n"
     ]
    }
   ],
   "source": [
    "array1.print_random()"
   ]
  },
  {
   "cell_type": "code",
   "execution_count": 28,
   "metadata": {},
   "outputs": [
    {
     "name": "stdout",
     "output_type": "stream",
     "text": [
      "[0.53074653 0.56519095]\n"
     ]
    }
   ],
   "source": [
    "array1.mean_y()"
   ]
  },
  {
   "cell_type": "code",
   "execution_count": 29,
   "metadata": {},
   "outputs": [],
   "source": [
    "array2 = random_sample(5,10)\n"
   ]
  },
  {
   "cell_type": "code",
   "execution_count": 31,
   "metadata": {},
   "outputs": [
    {
     "name": "stdout",
     "output_type": "stream",
     "text": [
      "[[0.36254844 0.53700766 0.7605497  0.8202201  0.66138778 0.93470423\n",
      "  0.32799986 0.23591499 0.57017267 0.89369517]\n",
      " [0.68656654 0.74932172 0.1007068  0.88436566 0.52055019 0.1926084\n",
      "  0.05157963 0.32414175 0.13164013 0.33966194]\n",
      " [0.7611146  0.58081542 0.66004741 0.09317506 0.08283149 0.13970232\n",
      "  0.51679791 0.30290551 0.24249752 0.08952827]\n",
      " [0.23880572 0.06593405 0.47616209 0.06078895 0.78650539 0.80665734\n",
      "  0.57668068 0.56168021 0.62746907 0.52891845]\n",
      " [0.13149266 0.13122033 0.71842521 0.53901349 0.3286858  0.30186608\n",
      "  0.70109053 0.56614383 0.47585652 0.72131864]]\n"
     ]
    }
   ],
   "source": [
    "array2.print_random()"
   ]
  },
  {
   "cell_type": "code",
   "execution_count": 34,
   "metadata": {},
   "outputs": [
    {
     "name": "stdout",
     "output_type": "stream",
     "text": [
      "[0.61042006 0.39811428 0.34694155 0.4729602  0.46151131]\n"
     ]
    }
   ],
   "source": [
    "array2.mean_x()"
   ]
  }
 ],
 "metadata": {
  "kernelspec": {
   "display_name": "Python 3",
   "language": "python",
   "name": "python3"
  },
  "language_info": {
   "codemirror_mode": {
    "name": "ipython",
    "version": 3
   },
   "file_extension": ".py",
   "mimetype": "text/x-python",
   "name": "python",
   "nbconvert_exporter": "python",
   "pygments_lexer": "ipython3",
   "version": "3.6.4"
  }
 },
 "nbformat": 4,
 "nbformat_minor": 2
}
