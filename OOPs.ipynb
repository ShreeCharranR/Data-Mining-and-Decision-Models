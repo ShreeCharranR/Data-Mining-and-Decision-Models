{
 "cells": [
  {
   "cell_type": "code",
   "execution_count": 51,
   "metadata": {},
   "outputs": [],
   "source": [
    "import numpy as np\n",
    "import matplotlib.pyplot as plt"
   ]
  },
  {
   "cell_type": "code",
   "execution_count": 169,
   "metadata": {},
   "outputs": [],
   "source": [
    "class random_sample:\n",
    "    \n",
    "    def __init__(self, nsamp, narray):\n",
    "        self.__nsamp__ = nsamp\n",
    "        self.__narray__ = narray\n",
    "        self.__rand_array__ = np.random.poisson(4.5,(nsamp,narray))\n",
    "        self.values = self.__rand_array__\n",
    "        \n",
    "            \n",
    "    def print_random(self):\n",
    "        print(self.__rand_array__)\n",
    "    \n",
    "    def mean_x(self):\n",
    "        print(np.mean(self.__rand_array__, axis=1))\n",
    "        \n",
    "    def mean_y(self):\n",
    "        return(np.mean(self.__rand_array__, axis=0))\n",
    "    \n",
    "    def hist(self):\n",
    "        \n",
    "        for i in range(self.__narray__):\n",
    "            self.__bins__ = np.linspace(np.min(self.values),np.max(self.values), 16)\n",
    "            plt.hist(self.__rand_array__[:,i],self.__bins__, alpha=0.5, label='array'+str(i+1))\n",
    "            plt.legend(loc='upper right')\n",
    "            plt.show()\n",
    "        "
   ]
  },
  {
   "cell_type": "code",
   "execution_count": 170,
   "metadata": {},
   "outputs": [],
   "source": [
    "array1 = random_sample(1000,3)"
   ]
  },
  {
   "cell_type": "code",
   "execution_count": 171,
   "metadata": {},
   "outputs": [
    {
     "data": {
      "text/plain": [
       "array([[4, 7, 6],\n",
       "       [6, 7, 0],\n",
       "       [1, 6, 4],\n",
       "       ...,\n",
       "       [3, 1, 3],\n",
       "       [4, 9, 3],\n",
       "       [5, 2, 7]])"
      ]
     },
     "execution_count": 171,
     "metadata": {},
     "output_type": "execute_result"
    }
   ],
   "source": [
    "array1.values"
   ]
  },
  {
   "cell_type": "code",
   "execution_count": 172,
   "metadata": {},
   "outputs": [
    {
     "data": {
      "image/png": "[encoded data removed]",
      "text/plain": [
       "<Figure size 432x288 with 1 Axes>"
      ]
     },
     "metadata": {},
     "output_type": "display_data"
    },
    {
     "data": {
      "image/png": "[encoded data removed]",
      "text/plain": [
       "<Figure size 432x288 with 1 Axes>"
      ]
     },
     "metadata": {},
     "output_type": "display_data"
    },
    {
     "data": {
      "image/png": "[encoded data removed]",
      "text/plain": [
       "<Figure size 432x288 with 1 Axes>"
      ]
     },
     "metadata": {},
     "output_type": "display_data"
    }
   ],
   "source": [
    "array1.hist()"
   ]
  },
  {
   "cell_type": "code",
   "execution_count": 84,
   "metadata": {},
   "outputs": [
    {
     "data": {
      "text/plain": [
       "array([0.49408286, 0.54714124, 0.54379085])"
      ]
     },
     "execution_count": 84,
     "metadata": {},
     "output_type": "execute_result"
    }
   ],
   "source": [
    "array1.mean_y()"
   ]
  },
  {
   "cell_type": "code",
   "execution_count": 105,
   "metadata": {},
   "outputs": [],
   "source": [
    "array2 = random_sample(5,10)\n"
   ]
  },
  {
   "cell_type": "code",
   "execution_count": 106,
   "metadata": {},
   "outputs": [
    {
     "name": "stdout",
     "output_type": "stream",
     "text": [
      "[[0.69567323 0.52456769 0.3074927  0.79518871 0.57079533 0.70189589\n",
      "  0.31680358 0.8262228  0.24606442 0.29063253]\n",
      " [0.89445903 0.88324865 0.09349169 0.41007821 0.18463849 0.28778195\n",
      "  0.46228802 0.6906936  0.26072116 0.17876023]\n",
      " [0.16969641 0.70373954 0.12786562 0.01748722 0.13679437 0.71850086\n",
      "  0.83386114 0.12586361 0.0394567  0.67965654]\n",
      " [0.71772921 0.19117662 0.95308533 0.25055878 0.0603505  0.14029281\n",
      "  0.63864484 0.27828428 0.81296266 0.21986017]\n",
      " [0.02455604 0.68635431 0.26402794 0.05551621 0.98692372 0.25101483\n",
      "  0.88458831 0.4691391  0.49374278 0.33330753]]\n"
     ]
    }
   ],
   "source": [
    "array2.print_random()"
   ]
  },
  {
   "cell_type": "code",
   "execution_count": 87,
   "metadata": {},
   "outputs": [
    {
     "name": "stdout",
     "output_type": "stream",
     "text": [
      "[0.40789748 0.48606295 0.41597085 0.389129   0.63262385]\n"
     ]
    }
   ],
   "source": [
    "array2.mean_x()"
   ]
  }
 ],
 "metadata": {
  "kernelspec": {
   "display_name": "Python 3",
   "language": "python",
   "name": "python3"
  },
  "language_info": {
   "codemirror_mode": {
    "name": "ipython",
    "version": 3
   },
   "file_extension": ".py",
   "mimetype": "text/x-python",
   "name": "python",
   "nbconvert_exporter": "python",
   "pygments_lexer": "ipython3",
   "version": "3.6.4"
  }
 },
 "nbformat": 4,
 "nbformat_minor": 2
}
