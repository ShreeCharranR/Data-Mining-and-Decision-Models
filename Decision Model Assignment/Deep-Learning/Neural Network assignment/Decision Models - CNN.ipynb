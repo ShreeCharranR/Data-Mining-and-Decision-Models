{
 "cells": [
  {
   "cell_type": "code",
   "execution_count": 1,
   "metadata": {},
   "outputs": [],
   "source": [
    "import numpy as np\n",
    "import pandas as pd\n",
    "import matplotlib.pyplot as plt\n",
    "import seaborn as sns\n",
    "from sklearn.utils import shuffle\n",
    "from sklearn.model_selection import train_test_split\n",
    "from sklearn import metrics\n",
    "from sklearn.decomposition import PCA\n",
    "from sklearn import preprocessing\n",
    "from sklearn.utils import resample\n",
    "import itertools\n",
    "from sklearn.model_selection import GridSearchCV\n",
    "from sklearn.manifold import TSNE\n",
    "%matplotlib inline"
   ]
  },
  {
   "cell_type": "code",
   "execution_count": 2,
   "metadata": {},
   "outputs": [],
   "source": [
    "df_pca = pd.read_csv(\"pca_data.csv\",index_col='Unnamed: 0')"
   ]
  },
  {
   "cell_type": "code",
   "execution_count": 3,
   "metadata": {},
   "outputs": [
    {
     "data": {
      "text/html": [
       "<div>\n",
       "<style scoped>\n",
       "    .dataframe tbody tr th:only-of-type {\n",
       "        vertical-align: middle;\n",
       "    }\n",
       "\n",
       "    .dataframe tbody tr th {\n",
       "        vertical-align: top;\n",
       "    }\n",
       "\n",
       "    .dataframe thead th {\n",
       "        text-align: right;\n",
       "    }\n",
       "</style>\n",
       "<table border=\"1\" class=\"dataframe\">\n",
       "  <thead>\n",
       "    <tr style=\"text-align: right;\">\n",
       "      <th></th>\n",
       "      <th>Principal Component 1</th>\n",
       "      <th>Principal Component 2</th>\n",
       "      <th>Principal Component 3</th>\n",
       "      <th>Principal Component 4</th>\n",
       "      <th>Principal Component 5</th>\n",
       "      <th>Principal Component 6</th>\n",
       "      <th>Principal Component 7</th>\n",
       "      <th>Principal Component 8</th>\n",
       "      <th>Principal Component 9</th>\n",
       "      <th>Principal Component 10</th>\n",
       "      <th>...</th>\n",
       "      <th>Principal Component 82</th>\n",
       "      <th>Principal Component 83</th>\n",
       "      <th>Principal Component 84</th>\n",
       "      <th>Principal Component 85</th>\n",
       "      <th>Principal Component 86</th>\n",
       "      <th>Principal Component 87</th>\n",
       "      <th>Principal Component 88</th>\n",
       "      <th>Principal Component 89</th>\n",
       "      <th>Principal Component 90</th>\n",
       "      <th>Release Decade</th>\n",
       "    </tr>\n",
       "  </thead>\n",
       "  <tbody>\n",
       "    <tr>\n",
       "      <th>0</th>\n",
       "      <td>-0.150333</td>\n",
       "      <td>-0.071206</td>\n",
       "      <td>0.035277</td>\n",
       "      <td>0.078159</td>\n",
       "      <td>0.010680</td>\n",
       "      <td>0.013304</td>\n",
       "      <td>-0.019755</td>\n",
       "      <td>-0.026418</td>\n",
       "      <td>-0.018521</td>\n",
       "      <td>-0.046058</td>\n",
       "      <td>...</td>\n",
       "      <td>0.001183</td>\n",
       "      <td>-0.001290</td>\n",
       "      <td>-0.004443</td>\n",
       "      <td>-0.000603</td>\n",
       "      <td>0.001508</td>\n",
       "      <td>-0.002278</td>\n",
       "      <td>-0.002729</td>\n",
       "      <td>-0.000815</td>\n",
       "      <td>-0.002403</td>\n",
       "      <td>2000</td>\n",
       "    </tr>\n",
       "    <tr>\n",
       "      <th>1</th>\n",
       "      <td>-0.127587</td>\n",
       "      <td>-0.042643</td>\n",
       "      <td>-0.039528</td>\n",
       "      <td>0.030215</td>\n",
       "      <td>0.055388</td>\n",
       "      <td>-0.029260</td>\n",
       "      <td>-0.044218</td>\n",
       "      <td>-0.043042</td>\n",
       "      <td>0.024067</td>\n",
       "      <td>-0.017534</td>\n",
       "      <td>...</td>\n",
       "      <td>0.005864</td>\n",
       "      <td>0.008839</td>\n",
       "      <td>0.003453</td>\n",
       "      <td>0.005332</td>\n",
       "      <td>0.006288</td>\n",
       "      <td>-0.000495</td>\n",
       "      <td>0.002620</td>\n",
       "      <td>0.000646</td>\n",
       "      <td>-0.002889</td>\n",
       "      <td>2000</td>\n",
       "    </tr>\n",
       "    <tr>\n",
       "      <th>2</th>\n",
       "      <td>-0.173302</td>\n",
       "      <td>-0.032196</td>\n",
       "      <td>0.000596</td>\n",
       "      <td>0.036082</td>\n",
       "      <td>0.019383</td>\n",
       "      <td>-0.006957</td>\n",
       "      <td>-0.007135</td>\n",
       "      <td>-0.040764</td>\n",
       "      <td>-0.023660</td>\n",
       "      <td>-0.005569</td>\n",
       "      <td>...</td>\n",
       "      <td>-0.001461</td>\n",
       "      <td>-0.003321</td>\n",
       "      <td>-0.001130</td>\n",
       "      <td>-0.002359</td>\n",
       "      <td>0.003970</td>\n",
       "      <td>0.003404</td>\n",
       "      <td>-0.001038</td>\n",
       "      <td>-0.003000</td>\n",
       "      <td>0.004577</td>\n",
       "      <td>2000</td>\n",
       "    </tr>\n",
       "    <tr>\n",
       "      <th>3</th>\n",
       "      <td>-0.104943</td>\n",
       "      <td>-0.114886</td>\n",
       "      <td>0.054070</td>\n",
       "      <td>-0.024135</td>\n",
       "      <td>0.055518</td>\n",
       "      <td>-0.013094</td>\n",
       "      <td>-0.010121</td>\n",
       "      <td>-0.011146</td>\n",
       "      <td>0.000877</td>\n",
       "      <td>-0.002956</td>\n",
       "      <td>...</td>\n",
       "      <td>0.005481</td>\n",
       "      <td>0.002250</td>\n",
       "      <td>0.009814</td>\n",
       "      <td>0.006775</td>\n",
       "      <td>0.000168</td>\n",
       "      <td>0.000743</td>\n",
       "      <td>0.007096</td>\n",
       "      <td>-0.001337</td>\n",
       "      <td>-0.002772</td>\n",
       "      <td>2000</td>\n",
       "    </tr>\n",
       "    <tr>\n",
       "      <th>4</th>\n",
       "      <td>-0.167919</td>\n",
       "      <td>-0.048979</td>\n",
       "      <td>0.009335</td>\n",
       "      <td>0.051351</td>\n",
       "      <td>0.022709</td>\n",
       "      <td>0.004066</td>\n",
       "      <td>-0.054789</td>\n",
       "      <td>-0.016897</td>\n",
       "      <td>0.027231</td>\n",
       "      <td>-0.020771</td>\n",
       "      <td>...</td>\n",
       "      <td>0.005635</td>\n",
       "      <td>-0.004517</td>\n",
       "      <td>-0.001881</td>\n",
       "      <td>-0.001931</td>\n",
       "      <td>0.001328</td>\n",
       "      <td>0.006725</td>\n",
       "      <td>-0.005325</td>\n",
       "      <td>0.003686</td>\n",
       "      <td>0.000467</td>\n",
       "      <td>2000</td>\n",
       "    </tr>\n",
       "  </tbody>\n",
       "</table>\n",
       "<p>5 rows × 91 columns</p>\n",
       "</div>"
      ],
      "text/plain": [
       "   Principal Component 1  Principal Component 2  Principal Component 3  \\\n",
       "0              -0.150333              -0.071206               0.035277   \n",
       "1              -0.127587              -0.042643              -0.039528   \n",
       "2              -0.173302              -0.032196               0.000596   \n",
       "3              -0.104943              -0.114886               0.054070   \n",
       "4              -0.167919              -0.048979               0.009335   \n",
       "\n",
       "   Principal Component 4  Principal Component 5  Principal Component 6  \\\n",
       "0               0.078159               0.010680               0.013304   \n",
       "1               0.030215               0.055388              -0.029260   \n",
       "2               0.036082               0.019383              -0.006957   \n",
       "3              -0.024135               0.055518              -0.013094   \n",
       "4               0.051351               0.022709               0.004066   \n",
       "\n",
       "   Principal Component 7  Principal Component 8  Principal Component 9  \\\n",
       "0              -0.019755              -0.026418              -0.018521   \n",
       "1              -0.044218              -0.043042               0.024067   \n",
       "2              -0.007135              -0.040764              -0.023660   \n",
       "3              -0.010121              -0.011146               0.000877   \n",
       "4              -0.054789              -0.016897               0.027231   \n",
       "\n",
       "   Principal Component 10       ...        Principal Component 82  \\\n",
       "0               -0.046058       ...                      0.001183   \n",
       "1               -0.017534       ...                      0.005864   \n",
       "2               -0.005569       ...                     -0.001461   \n",
       "3               -0.002956       ...                      0.005481   \n",
       "4               -0.020771       ...                      0.005635   \n",
       "\n",
       "   Principal Component 83  Principal Component 84  Principal Component 85  \\\n",
       "0               -0.001290               -0.004443               -0.000603   \n",
       "1                0.008839                0.003453                0.005332   \n",
       "2               -0.003321               -0.001130               -0.002359   \n",
       "3                0.002250                0.009814                0.006775   \n",
       "4               -0.004517               -0.001881               -0.001931   \n",
       "\n",
       "   Principal Component 86  Principal Component 87  Principal Component 88  \\\n",
       "0                0.001508               -0.002278               -0.002729   \n",
       "1                0.006288               -0.000495                0.002620   \n",
       "2                0.003970                0.003404               -0.001038   \n",
       "3                0.000168                0.000743                0.007096   \n",
       "4                0.001328                0.006725               -0.005325   \n",
       "\n",
       "   Principal Component 89  Principal Component 90  Release Decade  \n",
       "0               -0.000815               -0.002403            2000  \n",
       "1                0.000646               -0.002889            2000  \n",
       "2               -0.003000                0.004577            2000  \n",
       "3               -0.001337               -0.002772            2000  \n",
       "4                0.003686                0.000467            2000  \n",
       "\n",
       "[5 rows x 91 columns]"
      ]
     },
     "execution_count": 3,
     "metadata": {},
     "output_type": "execute_result"
    }
   ],
   "source": [
    "df_pca.head()"
   ]
  },
  {
   "cell_type": "code",
   "execution_count": 4,
   "metadata": {},
   "outputs": [],
   "source": [
    "X,y = df_pca.drop(\"Release Decade\",axis=1),df_pca[\"Release Decade\"]"
   ]
  },
  {
   "cell_type": "code",
   "execution_count": 5,
   "metadata": {},
   "outputs": [],
   "source": [
    "X_train, X_test, y_train, y_test = train_test_split(X, y, test_size = 0.2, random_state = 0,stratify = y)"
   ]
  },
  {
   "cell_type": "code",
   "execution_count": 6,
   "metadata": {},
   "outputs": [
    {
     "name": "stderr",
     "output_type": "stream",
     "text": [
      "Using TensorFlow backend.\n"
     ]
    }
   ],
   "source": [
    "# define early stopping callback\n",
    "from keras.callbacks import EarlyStopping\n",
    "earlystop = EarlyStopping(monitor='val_acc', patience=5, verbose=1, mode='auto')"
   ]
  },
  {
   "cell_type": "code",
   "execution_count": 7,
   "metadata": {},
   "outputs": [],
   "source": [
    "from keras.callbacks import ModelCheckpoint\n",
    "modelcheck = ModelCheckpoint('C:\\\\Users\\\\Lenovo\\\\Desktop\\\\ML\\\\Data Mining and Decision Models\\\\Decision Models Assignment\\\\checkpoints\\\\classifier_conv_checkpoint.hdf5',monitor='val_acc',verbose=0, save_best_only=False, save_weights_only=False, mode='auto', period=1)"
   ]
  },
  {
   "cell_type": "code",
   "execution_count": 8,
   "metadata": {},
   "outputs": [],
   "source": [
    "from time import time\n",
    "from keras.callbacks import TensorBoard\n",
    "tensorboard = TensorBoard(log_dir=\"logs/{}\".format(time()),histogram_freq=1, batch_size=32, write_graph=True, write_grads=True,write_images=True)"
   ]
  },
  {
   "cell_type": "code",
   "execution_count": 9,
   "metadata": {},
   "outputs": [],
   "source": [
    "callbacks_list=[tensorboard,earlystop,modelcheck]"
   ]
  },
  {
   "cell_type": "code",
   "execution_count": 10,
   "metadata": {},
   "outputs": [],
   "source": [
    "# Importing the Keras libraries and packages\n",
    "from keras.models import Sequential\n",
    "from keras.layers import Conv1D\n",
    "from keras.layers import MaxPooling1D\n",
    "from keras.layers import Flatten\n",
    "from keras.layers import Dense,Dropout,Activation"
   ]
  },
  {
   "cell_type": "code",
   "execution_count": 11,
   "metadata": {},
   "outputs": [],
   "source": [
    "X_train = X_train.values.reshape(X_train.shape[0], X_train.shape[1], 1)"
   ]
  },
  {
   "cell_type": "code",
   "execution_count": 12,
   "metadata": {},
   "outputs": [],
   "source": [
    "X_test = X_test.values.reshape(X_test.shape[0], X_test.shape[1], 1)"
   ]
  },
  {
   "cell_type": "code",
   "execution_count": 13,
   "metadata": {},
   "outputs": [
    {
     "name": "stdout",
     "output_type": "stream",
     "text": [
      "(412276, 90, 1) (103069, 90, 1)\n"
     ]
    }
   ],
   "source": [
    "print(X_train.shape, X_test.shape)"
   ]
  },
  {
   "cell_type": "code",
   "execution_count": 14,
   "metadata": {},
   "outputs": [
    {
     "name": "stdout",
     "output_type": "stream",
     "text": [
      "_________________________________________________________________\n",
      "Layer (type)                 Output Shape              Param #   \n",
      "=================================================================\n",
      "conv1d_1 (Conv1D)            (None, 90, 32)            352       \n",
      "_________________________________________________________________\n",
      "max_pooling1d_1 (MaxPooling1 (None, 45, 32)            0         \n",
      "_________________________________________________________________\n",
      "conv1d_2 (Conv1D)            (None, 41, 32)            5152      \n",
      "_________________________________________________________________\n",
      "max_pooling1d_2 (MaxPooling1 (None, 20, 32)            0         \n",
      "_________________________________________________________________\n",
      "flatten_1 (Flatten)          (None, 640)               0         \n",
      "_________________________________________________________________\n",
      "dropout_1 (Dropout)          (None, 640)               0         \n",
      "_________________________________________________________________\n",
      "dense_1 (Dense)              (None, 128)               82048     \n",
      "_________________________________________________________________\n",
      "dense_2 (Dense)              (None, 10)                1290      \n",
      "_________________________________________________________________\n",
      "activation_1 (Activation)    (None, 10)                0         \n",
      "=================================================================\n",
      "Total params: 88,842\n",
      "Trainable params: 88,842\n",
      "Non-trainable params: 0\n",
      "_________________________________________________________________\n"
     ]
    }
   ],
   "source": [
    "# Initialising the CNN\n",
    "classifier_conv= Sequential()\n",
    "\n",
    "# Step 1 - Convolution\n",
    "classifier_conv.add(Conv1D(32,10, padding='same',input_shape =X_train.shape[1:3],activation='relu'))\n",
    "# Step 2 - Pooling\n",
    "classifier_conv.add(MaxPooling1D(pool_size=2))\n",
    "# Adding a second convolutional layer\n",
    "classifier_conv.add(Conv1D(32, 5 , activation = 'relu'))\n",
    "classifier_conv.add(MaxPooling1D(pool_size = 2))\n",
    "\n",
    "# Step 3 - Flattening\n",
    "classifier_conv.add(Flatten())\n",
    "classifier_conv.add(Dropout(0.4))\n",
    "\n",
    "# Step 4 - Full connection\n",
    "classifier_conv.add(Dense(units = 128, activation = 'relu'))\n",
    "classifier_conv.add(Dense(units = len(df_pca['Release Decade'].unique())))\n",
    "classifier_conv.add(Activation('softmax'))\n",
    "\n",
    "# Compiling the CNN\n",
    "classifier_conv.compile(optimizer = 'adam', loss = 'categorical_crossentropy', metrics = ['accuracy'])\n",
    "\n",
    "classifier_conv.summary()"
   ]
  },
  {
   "cell_type": "code",
   "execution_count": 15,
   "metadata": {},
   "outputs": [
    {
     "name": "stdout",
     "output_type": "stream",
     "text": [
      "Train on 412276 samples, validate on 103069 samples\n",
      "Epoch 1/5\n",
      "412276/412276 [==============================] - 573s 1ms/step - loss: 1.0430 - acc: 0.6121 - val_loss: 0.9838 - val_acc: 0.6290\n",
      "Epoch 2/5\n",
      "412276/412276 [==============================] - 534s 1ms/step - loss: 1.0083 - acc: 0.6227 - val_loss: 0.9698 - val_acc: 0.6336\n",
      "Epoch 3/5\n",
      "412276/412276 [==============================] - 502s 1ms/step - loss: 1.0001 - acc: 0.6256 - val_loss: 0.9695 - val_acc: 0.6335\n",
      "Epoch 4/5\n",
      "412276/412276 [==============================] - 413s 1ms/step - loss: 0.9953 - acc: 0.6273 - val_loss: 0.9681 - val_acc: 0.6361\n",
      "Epoch 5/5\n",
      "412276/412276 [==============================] - 499s 1ms/step - loss: 0.9938 - acc: 0.6282 - val_loss: 0.9686 - val_acc: 0.6386\n"
     ]
    },
    {
     "data": {
      "text/plain": [
       "<keras.callbacks.History at 0x1404983c9b0>"
      ]
     },
     "execution_count": 15,
     "metadata": {},
     "output_type": "execute_result"
    }
   ],
   "source": [
    "classifier_conv.fit(X_train, pd.get_dummies(y_train), batch_size = 10, epochs = 5,callbacks=callbacks_list,validation_data=(X_test,pd.get_dummies(y_test)))"
   ]
  }
 ],
 "metadata": {
  "kernelspec": {
   "display_name": "Python 3",
   "language": "python",
   "name": "python3"
  },
  "language_info": {
   "codemirror_mode": {
    "name": "ipython",
    "version": 3
   },
   "file_extension": ".py",
   "mimetype": "text/x-python",
   "name": "python",
   "nbconvert_exporter": "python",
   "pygments_lexer": "ipython3",
   "version": "3.6.4"
  }
 },
 "nbformat": 4,
 "nbformat_minor": 2
}
