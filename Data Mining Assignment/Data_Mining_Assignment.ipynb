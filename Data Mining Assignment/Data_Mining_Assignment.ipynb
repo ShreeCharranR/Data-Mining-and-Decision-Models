{
  "nbformat": 4,
  "nbformat_minor": 0,
  "metadata": {
    "colab": {
      "name": "Data Mining Assignment.ipynb",
      "version": "0.3.2",
      "provenance": [],
      "collapsed_sections": [],
      "toc_visible": true
    },
    "kernelspec": {
      "name": "python3",
      "display_name": "Python 3"
    }
  },
  "cells": [
    {
      "metadata": {
        "id": "A6BCBuTqToFl",
        "colab_type": "text"
      },
      "cell_type": "markdown",
      "source": [
        "#### Status : \n",
        "Analysis done .,\n",
        "\n",
        "Kindly add new ideas to results and discussion\n",
        "add comments where ever necessary"
      ]
    },
    {
      "metadata": {
        "id": "YFYWDzwtMZ2S",
        "colab_type": "code",
        "colab": {
          "base_uri": "https://localhost:8080/",
          "height": 50
        },
        "outputId": "8b33a991-438b-4ebe-aa9d-dff9295829f7"
      },
      "cell_type": "code",
      "source": [
        "!pip install scipy==1.1.0"
      ],
      "execution_count": 2,
      "outputs": [
        {
          "output_type": "stream",
          "text": [
            "Requirement already satisfied: scipy==1.1.0 in /usr/local/lib/python3.6/dist-packages (1.1.0)\r\n",
            "Requirement already satisfied: numpy>=1.8.2 in /usr/local/lib/python3.6/dist-packages (from scipy==1.1.0) (1.14.5)\r\n"
          ],
          "name": "stdout"
        }
      ]
    },
    {
      "metadata": {
        "id": "PMX74kHMBEmw",
        "colab_type": "text"
      },
      "cell_type": "markdown",
      "source": [
        "# Assignment 1 : Linear Programming for maximizing Revenue for the flight operator"
      ]
    },
    {
      "metadata": {
        "id": "wj5ABg9-CRVu",
        "colab_type": "text"
      },
      "cell_type": "markdown",
      "source": [
        "## Importing necessary Libraries"
      ]
    },
    {
      "metadata": {
        "id": "r_WuwGkA-gKb",
        "colab_type": "code",
        "colab": {}
      },
      "cell_type": "code",
      "source": [
        "import numpy as np\n",
        "import pandas as pd\n",
        "import matplotlib.pyplot as plt"
      ],
      "execution_count": 0,
      "outputs": []
    },
    {
      "metadata": {
        "id": "XrJwzbur7DPN",
        "colab_type": "code",
        "colab": {
          "resources": {
            "http://localhost:8080/nbextensions/google.colab/files.js": {
              "data": "Ly8gQ29weXJpZ2h0IDIwMTcgR29vZ2xlIExMQwovLwovLyBMaWNlbnNlZCB1bmRlciB0aGUgQXBhY2hlIExpY2Vuc2UsIFZlcnNpb24gMi4wICh0aGUgIkxpY2Vuc2UiKTsKLy8geW91IG1heSBub3QgdXNlIHRoaXMgZmlsZSBleGNlcHQgaW4gY29tcGxpYW5jZSB3aXRoIHRoZSBMaWNlbnNlLgovLyBZb3UgbWF5IG9idGFpbiBhIGNvcHkgb2YgdGhlIExpY2Vuc2UgYXQKLy8KLy8gICAgICBodHRwOi8vd3d3LmFwYWNoZS5vcmcvbGljZW5zZXMvTElDRU5TRS0yLjAKLy8KLy8gVW5sZXNzIHJlcXVpcmVkIGJ5IGFwcGxpY2FibGUgbGF3IG9yIGFncmVlZCB0byBpbiB3cml0aW5nLCBzb2Z0d2FyZQovLyBkaXN0cmlidXRlZCB1bmRlciB0aGUgTGljZW5zZSBpcyBkaXN0cmlidXRlZCBvbiBhbiAiQVMgSVMiIEJBU0lTLAovLyBXSVRIT1VUIFdBUlJBTlRJRVMgT1IgQ09ORElUSU9OUyBPRiBBTlkgS0lORCwgZWl0aGVyIGV4cHJlc3Mgb3IgaW1wbGllZC4KLy8gU2VlIHRoZSBMaWNlbnNlIGZvciB0aGUgc3BlY2lmaWMgbGFuZ3VhZ2UgZ292ZXJuaW5nIHBlcm1pc3Npb25zIGFuZAovLyBsaW1pdGF0aW9ucyB1bmRlciB0aGUgTGljZW5zZS4KCi8qKgogKiBAZmlsZW92ZXJ2aWV3IEhlbHBlcnMgZm9yIGdvb2dsZS5jb2xhYiBQeXRob24gbW9kdWxlLgogKi8KKGZ1bmN0aW9uKHNjb3BlKSB7CmZ1bmN0aW9uIHNwYW4odGV4dCwgc3R5bGVBdHRyaWJ1dGVzID0ge30pIHsKICBjb25zdCBlbGVtZW50ID0gZG9jdW1lbnQuY3JlYXRlRWxlbWVudCgnc3BhbicpOwogIGVsZW1lbnQudGV4dENvbnRlbnQgPSB0ZXh0OwogIGZvciAoY29uc3Qga2V5IG9mIE9iamVjdC5rZXlzKHN0eWxlQXR0cmlidXRlcykpIHsKICAgIGVsZW1lbnQuc3R5bGVba2V5XSA9IHN0eWxlQXR0cmlidXRlc1trZXldOwogIH0KICByZXR1cm4gZWxlbWVudDsKfQoKLy8gTWF4IG51bWJlciBvZiBieXRlcyB3aGljaCB3aWxsIGJlIHVwbG9hZGVkIGF0IGEgdGltZS4KY29uc3QgTUFYX1BBWUxPQURfU0laRSA9IDEwMCAqIDEwMjQ7Ci8vIE1heCBhbW91bnQgb2YgdGltZSB0byBibG9jayB3YWl0aW5nIGZvciB0aGUgdXNlci4KY29uc3QgRklMRV9DSEFOR0VfVElNRU9VVF9NUyA9IDMwICogMTAwMDsKCmZ1bmN0aW9uIF91cGxvYWRGaWxlcyhpbnB1dElkLCBvdXRwdXRJZCkgewogIGNvbnN0IHN0ZXBzID0gdXBsb2FkRmlsZXNTdGVwKGlucHV0SWQsIG91dHB1dElkKTsKICBjb25zdCBvdXRwdXRFbGVtZW50ID0gZG9jdW1lbnQuZ2V0RWxlbWVudEJ5SWQob3V0cHV0SWQpOwogIC8vIENhY2hlIHN0ZXBzIG9uIHRoZSBvdXRwdXRFbGVtZW50IHRvIG1ha2UgaXQgYXZhaWxhYmxlIGZvciB0aGUgbmV4dCBjYWxsCiAgLy8gdG8gdXBsb2FkRmlsZXNDb250aW51ZSBmcm9tIFB5dGhvbi4KICBvdXRwdXRFbGVtZW50LnN0ZXBzID0gc3RlcHM7CgogIHJldHVybiBfdXBsb2FkRmlsZXNDb250aW51ZShvdXRwdXRJZCk7Cn0KCi8vIFRoaXMgaXMgcm91Z2hseSBhbiBhc3luYyBnZW5lcmF0b3IgKG5vdCBzdXBwb3J0ZWQgaW4gdGhlIGJyb3dzZXIgeWV0KSwKLy8gd2hlcmUgdGhlcmUgYXJlIG11bHRpcGxlIGFzeW5jaHJvbm91cyBzdGVwcyBhbmQgdGhlIFB5dGhvbiBzaWRlIGlzIGdvaW5nCi8vIHRvIHBvbGwgZm9yIGNvbXBsZXRpb24gb2YgZWFjaCBzdGVwLgovLyBUaGlzIHVzZXMgYSBQcm9taXNlIHRvIGJsb2NrIHRoZSBweXRob24gc2lkZSBvbiBjb21wbGV0aW9uIG9mIGVhY2ggc3RlcCwKLy8gdGhlbiBwYXNzZXMgdGhlIHJlc3VsdCBvZiB0aGUgcHJldmlvdXMgc3RlcCBhcyB0aGUgaW5wdXQgdG8gdGhlIG5leHQgc3RlcC4KZnVuY3Rpb24gX3VwbG9hZEZpbGVzQ29udGludWUob3V0cHV0SWQpIHsKICBjb25zdCBvdXRwdXRFbGVtZW50ID0gZG9jdW1lbnQuZ2V0RWxlbWVudEJ5SWQob3V0cHV0SWQpOwogIGNvbnN0IHN0ZXBzID0gb3V0cHV0RWxlbWVudC5zdGVwczsKCiAgY29uc3QgbmV4dCA9IHN0ZXBzLm5leHQob3V0cHV0RWxlbWVudC5sYXN0UHJvbWlzZVZhbHVlKTsKICByZXR1cm4gUHJvbWlzZS5yZXNvbHZlKG5leHQudmFsdWUucHJvbWlzZSkudGhlbigodmFsdWUpID0+IHsKICAgIC8vIENhY2hlIHRoZSBsYXN0IHByb21pc2UgdmFsdWUgdG8gbWFrZSBpdCBhdmFpbGFibGUgdG8gdGhlIG5leHQKICAgIC8vIHN0ZXAgb2YgdGhlIGdlbmVyYXRvci4KICAgIG91dHB1dEVsZW1lbnQubGFzdFByb21pc2VWYWx1ZSA9IHZhbHVlOwogICAgcmV0dXJuIG5leHQudmFsdWUucmVzcG9uc2U7CiAgfSk7Cn0KCi8qKgogKiBHZW5lcmF0b3IgZnVuY3Rpb24gd2hpY2ggaXMgY2FsbGVkIGJldHdlZW4gZWFjaCBhc3luYyBzdGVwIG9mIHRoZSB1cGxvYWQKICogcHJvY2Vzcy4KICogQHBhcmFtIHtzdHJpbmd9IGlucHV0SWQgRWxlbWVudCBJRCBvZiB0aGUgaW5wdXQgZmlsZSBwaWNrZXIgZWxlbWVudC4KICogQHBhcmFtIHtzdHJpbmd9IG91dHB1dElkIEVsZW1lbnQgSUQgb2YgdGhlIG91dHB1dCBkaXNwbGF5LgogKiBAcmV0dXJuIHshSXRlcmFibGU8IU9iamVjdD59IEl0ZXJhYmxlIG9mIG5leHQgc3RlcHMuCiAqLwpmdW5jdGlvbiogdXBsb2FkRmlsZXNTdGVwKGlucHV0SWQsIG91dHB1dElkKSB7CiAgY29uc3QgaW5wdXRFbGVtZW50ID0gZG9jdW1lbnQuZ2V0RWxlbWVudEJ5SWQoaW5wdXRJZCk7CiAgaW5wdXRFbGVtZW50LmRpc2FibGVkID0gZmFsc2U7CgogIGNvbnN0IG91dHB1dEVsZW1lbnQgPSBkb2N1bWVudC5nZXRFbGVtZW50QnlJZChvdXRwdXRJZCk7CiAgb3V0cHV0RWxlbWVudC5pbm5lckhUTUwgPSAnJzsKCiAgY29uc3QgcGlja2VkUHJvbWlzZSA9IG5ldyBQcm9taXNlKChyZXNvbHZlKSA9PiB7CiAgICBpbnB1dEVsZW1lbnQuYWRkRXZlbnRMaXN0ZW5lcignY2hhbmdlJywgKGUpID0+IHsKICAgICAgcmVzb2x2ZShlLnRhcmdldC5maWxlcyk7CiAgICB9KTsKICB9KTsKCiAgY29uc3QgY2FuY2VsID0gZG9jdW1lbnQuY3JlYXRlRWxlbWVudCgnYnV0dG9uJyk7CiAgaW5wdXRFbGVtZW50LnBhcmVudEVsZW1lbnQuYXBwZW5kQ2hpbGQoY2FuY2VsKTsKICBjYW5jZWwudGV4dENvbnRlbnQgPSAnQ2FuY2VsIHVwbG9hZCc7CiAgY29uc3QgY2FuY2VsUHJvbWlzZSA9IG5ldyBQcm9taXNlKChyZXNvbHZlKSA9PiB7CiAgICBjYW5jZWwub25jbGljayA9ICgpID0+IHsKICAgICAgcmVzb2x2ZShudWxsKTsKICAgIH07CiAgfSk7CgogIC8vIENhbmNlbCB1cGxvYWQgaWYgdXNlciBoYXNuJ3QgcGlja2VkIGFueXRoaW5nIGluIHRpbWVvdXQuCiAgY29uc3QgdGltZW91dFByb21pc2UgPSBuZXcgUHJvbWlzZSgocmVzb2x2ZSkgPT4gewogICAgc2V0VGltZW91dCgoKSA9PiB7CiAgICAgIHJlc29sdmUobnVsbCk7CiAgICB9LCBGSUxFX0NIQU5HRV9USU1FT1VUX01TKTsKICB9KTsKCiAgLy8gV2FpdCBmb3IgdGhlIHVzZXIgdG8gcGljayB0aGUgZmlsZXMuCiAgY29uc3QgZmlsZXMgPSB5aWVsZCB7CiAgICBwcm9taXNlOiBQcm9taXNlLnJhY2UoW3BpY2tlZFByb21pc2UsIHRpbWVvdXRQcm9taXNlLCBjYW5jZWxQcm9taXNlXSksCiAgICByZXNwb25zZTogewogICAgICBhY3Rpb246ICdzdGFydGluZycsCiAgICB9CiAgfTsKCiAgaWYgKCFmaWxlcykgewogICAgcmV0dXJuIHsKICAgICAgcmVzcG9uc2U6IHsKICAgICAgICBhY3Rpb246ICdjb21wbGV0ZScsCiAgICAgIH0KICAgIH07CiAgfQoKICBjYW5jZWwucmVtb3ZlKCk7CgogIC8vIERpc2FibGUgdGhlIGlucHV0IGVsZW1lbnQgc2luY2UgZnVydGhlciBwaWNrcyBhcmUgbm90IGFsbG93ZWQuCiAgaW5wdXRFbGVtZW50LmRpc2FibGVkID0gdHJ1ZTsKCiAgZm9yIChjb25zdCBmaWxlIG9mIGZpbGVzKSB7CiAgICBjb25zdCBsaSA9IGRvY3VtZW50LmNyZWF0ZUVsZW1lbnQoJ2xpJyk7CiAgICBsaS5hcHBlbmQoc3BhbihmaWxlLm5hbWUsIHtmb250V2VpZ2h0OiAnYm9sZCd9KSk7CiAgICBsaS5hcHBlbmQoc3BhbigKICAgICAgICBgKCR7ZmlsZS50eXBlIHx8ICduL2EnfSkgLSAke2ZpbGUuc2l6ZX0gYnl0ZXMsIGAgKwogICAgICAgIGBsYXN0IG1vZGlmaWVkOiAkewogICAgICAgICAgICBmaWxlLmxhc3RNb2RpZmllZERhdGUgPyBmaWxlLmxhc3RNb2RpZmllZERhdGUudG9Mb2NhbGVEYXRlU3RyaW5nKCkgOgogICAgICAgICAgICAgICAgICAgICAgICAgICAgICAgICAgICAnbi9hJ30gLSBgKSk7CiAgICBjb25zdCBwZXJjZW50ID0gc3BhbignMCUgZG9uZScpOwogICAgbGkuYXBwZW5kQ2hpbGQocGVyY2VudCk7CgogICAgb3V0cHV0RWxlbWVudC5hcHBlbmRDaGlsZChsaSk7CgogICAgY29uc3QgZmlsZURhdGFQcm9taXNlID0gbmV3IFByb21pc2UoKHJlc29sdmUpID0+IHsKICAgICAgY29uc3QgcmVhZGVyID0gbmV3IEZpbGVSZWFkZXIoKTsKICAgICAgcmVhZGVyLm9ubG9hZCA9IChlKSA9PiB7CiAgICAgICAgcmVzb2x2ZShlLnRhcmdldC5yZXN1bHQpOwogICAgICB9OwogICAgICByZWFkZXIucmVhZEFzQXJyYXlCdWZmZXIoZmlsZSk7CiAgICB9KTsKICAgIC8vIFdhaXQgZm9yIHRoZSBkYXRhIHRvIGJlIHJlYWR5LgogICAgbGV0IGZpbGVEYXRhID0geWllbGQgewogICAgICBwcm9taXNlOiBmaWxlRGF0YVByb21pc2UsCiAgICAgIHJlc3BvbnNlOiB7CiAgICAgICAgYWN0aW9uOiAnY29udGludWUnLAogICAgICB9CiAgICB9OwoKICAgIC8vIFVzZSBhIGNodW5rZWQgc2VuZGluZyB0byBhdm9pZCBtZXNzYWdlIHNpemUgbGltaXRzLiBTZWUgYi82MjExNTY2MC4KICAgIGxldCBwb3NpdGlvbiA9IDA7CiAgICB3aGlsZSAocG9zaXRpb24gPCBmaWxlRGF0YS5ieXRlTGVuZ3RoKSB7CiAgICAgIGNvbnN0IGxlbmd0aCA9IE1hdGgubWluKGZpbGVEYXRhLmJ5dGVMZW5ndGggLSBwb3NpdGlvbiwgTUFYX1BBWUxPQURfU0laRSk7CiAgICAgIGNvbnN0IGNodW5rID0gbmV3IFVpbnQ4QXJyYXkoZmlsZURhdGEsIHBvc2l0aW9uLCBsZW5ndGgpOwogICAgICBwb3NpdGlvbiArPSBsZW5ndGg7CgogICAgICBjb25zdCBiYXNlNjQgPSBidG9hKFN0cmluZy5mcm9tQ2hhckNvZGUuYXBwbHkobnVsbCwgY2h1bmspKTsKICAgICAgeWllbGQgewogICAgICAgIHJlc3BvbnNlOiB7CiAgICAgICAgICBhY3Rpb246ICdhcHBlbmQnLAogICAgICAgICAgZmlsZTogZmlsZS5uYW1lLAogICAgICAgICAgZGF0YTogYmFzZTY0LAogICAgICAgIH0sCiAgICAgIH07CiAgICAgIHBlcmNlbnQudGV4dENvbnRlbnQgPQogICAgICAgICAgYCR7TWF0aC5yb3VuZCgocG9zaXRpb24gLyBmaWxlRGF0YS5ieXRlTGVuZ3RoKSAqIDEwMCl9JSBkb25lYDsKICAgIH0KICB9CgogIC8vIEFsbCBkb25lLgogIHlpZWxkIHsKICAgIHJlc3BvbnNlOiB7CiAgICAgIGFjdGlvbjogJ2NvbXBsZXRlJywKICAgIH0KICB9Owp9CgpzY29wZS5nb29nbGUgPSBzY29wZS5nb29nbGUgfHwge307CnNjb3BlLmdvb2dsZS5jb2xhYiA9IHNjb3BlLmdvb2dsZS5jb2xhYiB8fCB7fTsKc2NvcGUuZ29vZ2xlLmNvbGFiLl9maWxlcyA9IHsKICBfdXBsb2FkRmlsZXMsCiAgX3VwbG9hZEZpbGVzQ29udGludWUsCn07Cn0pKHNlbGYpOwo=",
              "ok": true,
              "headers": [
                [
                  "content-type",
                  "application/javascript"
                ]
              ],
              "status": 200,
              "status_text": ""
            }
          },
          "base_uri": "https://localhost:8080/",
          "height": 240
        },
        "outputId": "ed25bcac-e882-43a8-88aa-80ee45261331"
      },
      "cell_type": "code",
      "source": [
        "from google.colab import files\n",
        "\n",
        "uploaded = files.upload()\n",
        "\n",
        "for fn in uploaded.keys():\n",
        "  print('User uploaded file \"{name}\" with length {length} bytes'.format(\n",
        "      name=fn, length=len(uploaded[fn])))"
      ],
      "execution_count": 4,
      "outputs": [
        {
          "output_type": "display_data",
          "data": {
            "text/html": [
              "\n",
              "     <input type=\"file\" id=\"files-55de7d72-3b50-4e66-856e-caae692d8e69\" name=\"files[]\" multiple disabled />\n",
              "     <output id=\"result-55de7d72-3b50-4e66-856e-caae692d8e69\">\n",
              "      Upload widget is only available when the cell has been executed in the\n",
              "      current browser session. Please rerun this cell to enable.\n",
              "      </output>\n",
              "      <script src=\"/nbextensions/google.colab/files.js\"></script> "
            ],
            "text/plain": [
              "<IPython.core.display.HTML object>"
            ]
          },
          "metadata": {
            "tags": []
          }
        },
        {
          "output_type": "stream",
          "text": [
            "Saving capacity.txt to capacity.txt\n",
            "Saving demand.txt to demand.txt\n",
            "Saving fare.txt to fare.txt\n",
            "Saving it_leg.txt to it_leg.txt\n",
            "User uploaded file \"capacity.txt\" with length 1379 bytes\n",
            "User uploaded file \"demand.txt\" with length 244002 bytes\n",
            "User uploaded file \"fare.txt\" with length 234685 bytes\n",
            "User uploaded file \"it_leg.txt\" with length 445783 bytes\n"
          ],
          "name": "stdout"
        }
      ]
    },
    {
      "metadata": {
        "id": "ZLpi0-xjCaWO",
        "colab_type": "text"
      },
      "cell_type": "markdown",
      "source": [
        "## Reading the data files"
      ]
    },
    {
      "metadata": {
        "id": "t6RWwBRs7yJm",
        "colab_type": "code",
        "colab": {}
      },
      "cell_type": "code",
      "source": [
        "def read_data(filename):\n",
        "    \"\"\" Reads the text file and returns the data\"\"\"\n",
        "    with open(filename, \"r\") as f:\n",
        "        data = f.readlines()\n",
        "        array_data = []\n",
        "        for line in data:\n",
        "            words = line.split()\n",
        "            array_data.append(words)\n",
        "    array_data = pd.DataFrame(array_data)\n",
        "    return(array_data)"
      ],
      "execution_count": 0,
      "outputs": []
    },
    {
      "metadata": {
        "id": "qITV90fg8Q0a",
        "colab_type": "code",
        "colab": {}
      },
      "cell_type": "code",
      "source": [
        "capacity_data = read_data(\"capacity.txt\")\n",
        "demand_data = read_data(\"demand.txt\")\n",
        "fare_data = read_data(\"fare.txt\")\n",
        "it_leg_data = read_data(\"it_leg.txt\")"
      ],
      "execution_count": 0,
      "outputs": []
    },
    {
      "metadata": {
        "id": "g7bNUgSZ-j8C",
        "colab_type": "code",
        "colab": {}
      },
      "cell_type": "code",
      "source": [
        "#Renaming column name for clarity\n",
        "capacity_data.columns = np.array(['Flight','Capacity'])\n",
        "demand_data.columns =np.array(['Itinerary','Demand'])\n",
        "fare_data.columns = np.array(['Itinerary','Fare'])\n",
        "it_leg_data.columns = np.array(['Itinerary','Flight'])"
      ],
      "execution_count": 0,
      "outputs": []
    },
    {
      "metadata": {
        "id": "eYjEYqQA_p75",
        "colab_type": "code",
        "colab": {}
      },
      "cell_type": "code",
      "source": [
        "#changing the data type\n",
        "capacity_data.Capacity = capacity_data.Capacity.astype('int64')\n",
        "fare_data.Fare = fare_data.Fare.astype(\"float64\")\n",
        "demand_data.Demand = demand_data.Demand.astype(\"float64\")\n"
      ],
      "execution_count": 0,
      "outputs": []
    },
    {
      "metadata": {
        "id": "kQ0FsRg6CjNg",
        "colab_type": "text"
      },
      "cell_type": "markdown",
      "source": [
        "## Preliminary Analysis"
      ]
    },
    {
      "metadata": {
        "id": "rjUlhGkZ_rqf",
        "colab_type": "code",
        "colab": {
          "base_uri": "https://localhost:8080/",
          "height": 318
        },
        "outputId": "d4ff1368-1aa0-4da3-c78d-f00213c34d59"
      },
      "cell_type": "code",
      "source": [
        "print(capacity_data.head() , \" \\t shape of the data : \" ,capacity_data.shape)\n",
        "print(fare_data.head() , \" \\t shape of the data : \", fare_data.shape)\n",
        "print(demand_data.head() , \" \\t shape of the data : \" ,demand_data.shape )"
      ],
      "execution_count": 11,
      "outputs": [
        {
          "output_type": "stream",
          "text": [
            "                   Flight  Capacity\n",
            "0  LX0006420020920ZRHMIAF         6\n",
            "1  LX0006420020920ZRHMIAC        23\n",
            "2  LX0006420020920ZRHMIAY       120\n",
            "3  LX0009520020919EZEGRUF        12\n",
            "4  LX0009520020919EZEGRUC        50  \t shape of the data :  (53, 2)\n",
            "             Itinerary    Fare\n",
            "0  20**I******20020920  378.48\n",
            "1  20BEIBOMBRU20020920  217.54\n",
            "2  20INIBOMBRU20020920  539.42\n",
            "3  23**I******20020920  682.10\n",
            "4  23CHIZRHNRT20020920  682.10  \t shape of the data :  (7949, 2)\n",
            "             Itinerary  Demand\n",
            "0  20**I******20020920  0.0922\n",
            "1  20BEIBOMBRU20020920  0.2844\n",
            "2  20INIBOMBRU20020920  1.1751\n",
            "3  23**I******20020920  0.0000\n",
            "4  23CHIZRHNRT20020920  0.0000  \t shape of the data :  (7949, 2)\n"
          ],
          "name": "stdout"
        }
      ]
    },
    {
      "metadata": {
        "id": "_090qsaB_3XB",
        "colab_type": "code",
        "colab": {
          "base_uri": "https://localhost:8080/",
          "height": 184
        },
        "outputId": "f5b15c18-407e-4c73-eac7-27b8d387f014"
      },
      "cell_type": "code",
      "source": [
        "print(it_leg_data.head(), \" \\t shape of the data : \",it_leg_data.shape)\n",
        "\n",
        "print(\"\\n the number of unique itinerary .. \", len(it_leg_data.Itinerary.unique()))\n",
        "print(\"the number of unique Flight .. \", len(it_leg_data.Flight.unique()))\n",
        "\n",
        "print(\" the size matches perfectly\")"
      ],
      "execution_count": 12,
      "outputs": [
        {
          "output_type": "stream",
          "text": [
            "             Itinerary                  Flight\n",
            "0  20**I******20020920  LX0015520020920BOMZRHY\n",
            "1  20BEIBOMBRU20020920  LX0015520020920BOMZRHY\n",
            "2  20INIBOMBRU20020920  LX0015520020920BOMZRHY\n",
            "3  23**I******20020920  LX0016820020920ZRHNRTY\n",
            "4  23CHIZRHNRT20020920  LX0016820020920ZRHNRTY  \t shape of the data :  (9513, 2)\n",
            "\n",
            " the number of unique itinerary ..  7949\n",
            "the number of unique Flight ..  53\n",
            " the size matches perfectly\n"
          ],
          "name": "stdout"
        }
      ]
    },
    {
      "metadata": {
        "id": "RyaUl16cCqW_",
        "colab_type": "code",
        "colab": {}
      },
      "cell_type": "code",
      "source": [
        "#Dictionary for flight used in itenerary - 53 rows\n",
        "it_flight_dict = {}\n",
        "\n",
        "for i in it_leg_data.Flight.unique():\n",
        "    it_flight_dict[i] = it_leg_data[it_leg_data['Flight']==i]['Itinerary'].tolist()\n",
        "\n",
        "#Dictionary for itinerary to flight mappings reverse\n",
        "flight_it_dict = {}\n",
        "\n",
        "for i in it_leg_data.Itinerary.unique():\n",
        "    flight_it_dict[i] = it_leg_data[it_leg_data['Itinerary']==i]['Flight'].tolist()"
      ],
      "execution_count": 0,
      "outputs": []
    },
    {
      "metadata": {
        "id": "PXJnUjjWCxlW",
        "colab_type": "code",
        "colab": {
          "base_uri": "https://localhost:8080/",
          "height": 903
        },
        "outputId": "07e4556f-6540-4010-b530-98fbf7096c7b"
      },
      "cell_type": "code",
      "source": [
        "for i,j in it_flight_dict.items():\n",
        "  print(\"Flight ID: \" + str(i) + \" The number of itinerary possible for the flight : \" + str(len(j)))"
      ],
      "execution_count": 14,
      "outputs": [
        {
          "output_type": "stream",
          "text": [
            "Flight ID: LX0015520020920BOMZRHY The number of itinerary possible for the flight : 569\n",
            "Flight ID: LX0016820020920ZRHNRTY The number of itinerary possible for the flight : 337\n",
            "Flight ID: LX0006420020920ZRHMIAY The number of itinerary possible for the flight : 367\n",
            "Flight ID: LX0009520020919GRUZRHY The number of itinerary possible for the flight : 890\n",
            "Flight ID: LX0024720020920KHIDXBY The number of itinerary possible for the flight : 397\n",
            "Flight ID: LX0024720020920DXBZRHY The number of itinerary possible for the flight : 904\n",
            "Flight ID: LX0064720020920CDGZRHY The number of itinerary possible for the flight : 187\n",
            "Flight ID: LX0130520020920OSLZRHY The number of itinerary possible for the flight : 205\n",
            "Flight ID: LX0056220020920ZRHNCEY The number of itinerary possible for the flight : 236\n",
            "Flight ID: LX0280520020920GVAZRHY The number of itinerary possible for the flight : 332\n",
            "Flight ID: LX0056220020920ZRHNCEC The number of itinerary possible for the flight : 122\n",
            "Flight ID: LX0024720020920KHIDXBC The number of itinerary possible for the flight : 163\n",
            "Flight ID: LX0024720020920DXBZRHC The number of itinerary possible for the flight : 383\n",
            "Flight ID: LX0009520020919GRUZRHC The number of itinerary possible for the flight : 242\n",
            "Flight ID: LX0006420020920ZRHMIAC The number of itinerary possible for the flight : 150\n",
            "Flight ID: LX0009520020919EZEGRUY The number of itinerary possible for the flight : 409\n",
            "Flight ID: LX0148620020920ZRHPRGY The number of itinerary possible for the flight : 190\n",
            "Flight ID: LX0077120020920BRUZRHY The number of itinerary possible for the flight : 212\n",
            "Flight ID: LX0025720020920TLVZRHY The number of itinerary possible for the flight : 346\n",
            "Flight ID: LX0413020020920ZRHBUDY The number of itinerary possible for the flight : 77\n",
            "Flight ID: LX0132620020920ZRHDMEY The number of itinerary possible for the flight : 203\n",
            "Flight ID: LX0077120020920BRUZRHC The number of itinerary possible for the flight : 86\n",
            "Flight ID: LX0039820020920JERGCIY The number of itinerary possible for the flight : 144\n",
            "Flight ID: LX0039820020920GCIZRHY The number of itinerary possible for the flight : 153\n",
            "Flight ID: LX0039820020920ZRHJERY The number of itinerary possible for the flight : 165\n",
            "Flight ID: LX0025720020920TLVZRHC The number of itinerary possible for the flight : 96\n",
            "Flight ID: LX0280720020920GVAZRHC The number of itinerary possible for the flight : 116\n",
            "Flight ID: LX0016820020920ZRHNRTC The number of itinerary possible for the flight : 124\n",
            "Flight ID: LX0108120020920FRAZRHY The number of itinerary possible for the flight : 117\n",
            "Flight ID: LX0148620020920ZRHPRGC The number of itinerary possible for the flight : 51\n",
            "Flight ID: LX0280720020920GVAZRHY The number of itinerary possible for the flight : 234\n",
            "Flight ID: LX0024720020920KHIDXBF The number of itinerary possible for the flight : 28\n",
            "Flight ID: LX0024720020920DXBZRHF The number of itinerary possible for the flight : 107\n",
            "Flight ID: LX0048520020920LCYBSLY The number of itinerary possible for the flight : 39\n",
            "Flight ID: LX0132620020920ZRHDMEC The number of itinerary possible for the flight : 75\n",
            "Flight ID: LX0064720020920CDGZRHC The number of itinerary possible for the flight : 71\n",
            "Flight ID: LX0015520020920BOMZRHC The number of itinerary possible for the flight : 210\n",
            "Flight ID: LX0130520020920OSLZRHC The number of itinerary possible for the flight : 42\n",
            "Flight ID: LX0009520020919EZEGRUC The number of itinerary possible for the flight : 105\n",
            "Flight ID: LX0280520020920GVAZRHC The number of itinerary possible for the flight : 166\n",
            "Flight ID: LX0015520020920BOMZRHF The number of itinerary possible for the flight : 49\n",
            "Flight ID: LX0048520020920LCYBSLC The number of itinerary possible for the flight : 16\n",
            "Flight ID: LX0424220020920ZRHCMBY The number of itinerary possible for the flight : 66\n",
            "Flight ID: LX0413020020920ZRHBUDC The number of itinerary possible for the flight : 18\n",
            "Flight ID: LX0108120020920FRAZRHC The number of itinerary possible for the flight : 35\n",
            "Flight ID: LX0006420020920ZRHMIAF The number of itinerary possible for the flight : 46\n",
            "Flight ID: LX0009520020919GRUZRHF The number of itinerary possible for the flight : 59\n",
            "Flight ID: LX0016820020920ZRHNRTF The number of itinerary possible for the flight : 23\n",
            "Flight ID: LX0039820020920ZRHJERC The number of itinerary possible for the flight : 36\n",
            "Flight ID: LX0039820020920GCIZRHC The number of itinerary possible for the flight : 44\n",
            "Flight ID: LX0009520020919EZEGRUF The number of itinerary possible for the flight : 22\n",
            "Flight ID: LX0039820020920JERGCIC The number of itinerary possible for the flight : 35\n",
            "Flight ID: LX0424220020920ZRHCMBC The number of itinerary possible for the flight : 14\n"
          ],
          "name": "stdout"
        }
      ]
    },
    {
      "metadata": {
        "id": "fb3kSED7B3PA",
        "colab_type": "text"
      },
      "cell_type": "markdown",
      "source": [
        "## Objective Function : Maximizing Revenue"
      ]
    },
    {
      "metadata": {
        "id": "pYq6u9RADeaV",
        "colab_type": "code",
        "colab": {
          "base_uri": "https://localhost:8080/",
          "height": 33
        },
        "outputId": "df084dd2-719d-4127-bee8-9be6925bf110"
      },
      "cell_type": "code",
      "source": [
        "Z = fare_data.iloc[:,1].values#.reshape(len(fare_data.iloc[:,1].values),1)\n",
        "Z.shape"
      ],
      "execution_count": 15,
      "outputs": [
        {
          "output_type": "execute_result",
          "data": {
            "text/plain": [
              "(7949,)"
            ]
          },
          "metadata": {
            "tags": []
          },
          "execution_count": 15
        }
      ]
    },
    {
      "metadata": {
        "id": "unmwTut6DueV",
        "colab_type": "text"
      },
      "cell_type": "markdown",
      "source": [
        "## Constraints : Demand constraint and Capacity constraint"
      ]
    },
    {
      "metadata": {
        "id": "IZj3BOz1Dlyp",
        "colab_type": "code",
        "colab": {}
      },
      "cell_type": "code",
      "source": [
        "#Demand Constraint\n",
        "\n",
        "A = np.diag(np.array([1 for i in range(fare_data.shape[0])]))\n",
        "B = demand_data.iloc[:,1].values.reshape(len(demand_data.iloc[:,1].values),1)"
      ],
      "execution_count": 0,
      "outputs": []
    },
    {
      "metadata": {
        "id": "YSDwEuS2D-tu",
        "colab_type": "code",
        "colab": {}
      },
      "cell_type": "code",
      "source": [
        "for k,v in it_flight_dict.items():\n",
        "    temp_array= np.zeros(demand_data.shape[0])\n",
        "    for i in v:\n",
        "        temp_array = np.logical_or(temp_array,np.array(demand_data.iloc[:,0].values == i))\n",
        "    temp_array = temp_array.astype(int)\n",
        "    A = np.vstack([A,temp_array])\n",
        "    #Appending the capacity data for each flight to B matrix [num] -  , 53 times iteration\n",
        "    #directly adding the rows to B to avoid creation of new variable\n",
        "    B = np.vstack([B, int(capacity_data[capacity_data.Flight == k]['Capacity'])])"
      ],
      "execution_count": 0,
      "outputs": []
    },
    {
      "metadata": {
        "id": "dnOJb2VQECjt",
        "colab_type": "code",
        "colab": {}
      },
      "cell_type": "code",
      "source": [
        "B = B.ravel()"
      ],
      "execution_count": 0,
      "outputs": []
    },
    {
      "metadata": {
        "id": "eBb7PdwwEGO-",
        "colab_type": "code",
        "colab": {
          "base_uri": "https://localhost:8080/",
          "height": 50
        },
        "outputId": "ea94f559-d1c4-459f-8ac4-2e15140adaee"
      },
      "cell_type": "code",
      "source": [
        "print (\" The shape of A matrix is .. \", A.shape)\n",
        "print (\"The shape of B matrix is .. \", B.shape)"
      ],
      "execution_count": 19,
      "outputs": [
        {
          "output_type": "stream",
          "text": [
            " The shape of A matrix is ..  (8002, 7949)\n",
            "The shape of B matrix is ..  (8002,)\n"
          ],
          "name": "stdout"
        }
      ]
    },
    {
      "metadata": {
        "id": "eAbzwaHwERaV",
        "colab_type": "text"
      },
      "cell_type": "markdown",
      "source": [
        "## Linear programming results"
      ]
    },
    {
      "metadata": {
        "id": "NmdLMrtTE0ne",
        "colab_type": "code",
        "colab": {
          "base_uri": "https://localhost:8080/",
          "height": 33
        },
        "outputId": "d857dea0-b7ad-4939-9581-467a98a5d113"
      },
      "cell_type": "code",
      "source": [
        "import scipy\n",
        "scipy.__version__"
      ],
      "execution_count": 20,
      "outputs": [
        {
          "output_type": "execute_result",
          "data": {
            "text/plain": [
              "'1.1.0'"
            ]
          },
          "metadata": {
            "tags": []
          },
          "execution_count": 20
        }
      ]
    },
    {
      "metadata": {
        "id": "CjXutkjwEXS0",
        "colab_type": "code",
        "colab": {
          "base_uri": "https://localhost:8080/",
          "height": 351
        },
        "outputId": "a143e49b-e077-440a-fd04-82d77948a423"
      },
      "cell_type": "code",
      "source": [
        "#Applying optimization using linear programming\n",
        "res = scipy.optimize.linprog(c = Z, A_ub=A, b_ub=B,bounds = (0,1), method='interior-point',options={\"disp\": True})"
      ],
      "execution_count": 21,
      "outputs": [
        {
          "output_type": "stream",
          "text": [
            "Primal Feasibility  Dual Feasibility    Duality Gap         Step             Path Parameter      Objective          \n",
            "1.0                 1.0                 1.0                 -                1.0                 3152888.8           \n",
            "0.07822689971277    0.07822689971275    0.07822689971354    0.9223141278595  0.07822689971276    3137687.769127      \n",
            "0.001972814951081   0.001972814951081   0.001972814951101   0.9865349508918  0.001972814951081   2457981.607861      \n",
            "0.001697870821798   0.001697870821798   0.001697870821816   0.1497253563912  0.001697870821798   2300689.095359      \n",
            "0.001477448404618   0.001477448404618   0.001477448404633   0.1399645307486  0.001477448404618   2084011.919702      \n",
            "0.001430112330019   0.001430112330019   0.001430112330034   0.03503930472413 0.001430112330019   2026288.925727      \n",
            "0.001333343934456   0.001333343934456   0.00133334393447    0.07516877659736 0.001333343934456   1935943.47261       \n",
            "0.0007089079134906  0.0007089079134905  0.0007089079134978  0.489730979606   0.0007089079134905  948575.4608237      \n",
            "0.0002721004867185  0.0002721004867185  0.0002721004867213  0.6347855632972  0.0002721004867185  229990.6465706      \n",
            "8.548978131524e-05  8.548978131523e-05  8.548978131611e-05  0.6997022399224  8.548978131523e-05  45826.92341778      \n",
            "1.753940453288e-05  1.753940453288e-05  1.753940453306e-05  0.8060489955891  1.753940453288e-05  6237.130745501      \n",
            "2.82263919897e-06   2.82263919897e-06   2.822639198998e-06  0.8493854974469  2.82263919897e-06   719.5895401542      \n",
            "3.081996667427e-07  3.081996667418e-07  3.081996667457e-07  0.900388471444   3.081996667425e-07  57.3371761579       \n",
            "3.249469715115e-08  3.24946971518e-08   3.249469715171e-08  0.8991134889453  3.249469715138e-08  5.290136016269      \n",
            "2.655705977423e-09  2.65570597741e-09   2.655705977478e-09  0.9217093424921  2.655705977451e-09  0.4276429903085     \n",
            "2.627547345866e-12  2.627548048079e-12  2.627547251006e-12  0.9996564482155  2.627547250979e-12  0.0004308889622619  \n",
            "1.314901070957e-16  1.309906843505e-16  1.313782026406e-16  0.9999499996803  1.313782026392e-16  2.15445629334e-08   \n",
            "3.677443028819e-19  6.521638753142e-19  6.568910132201e-21  0.99995          6.568910132133e-21  1.077228146645e-12  \n",
            "Optimization terminated successfully.\n"
          ],
          "name": "stdout"
        }
      ]
    },
    {
      "metadata": {
        "id": "98QXZWyYTvKu",
        "colab_type": "code",
        "colab": {}
      },
      "cell_type": "code",
      "source": [
        "res_final = res #saving it for future analysis"
      ],
      "execution_count": 0,
      "outputs": []
    },
    {
      "metadata": {
        "id": "t1a86laIIydb",
        "colab_type": "text"
      },
      "cell_type": "markdown",
      "source": [
        "## Results and Discussion"
      ]
    },
    {
      "metadata": {
        "id": "UHtF3EnrFzFi",
        "colab_type": "code",
        "colab": {
          "base_uri": "https://localhost:8080/",
          "height": 286
        },
        "outputId": "5e2500c0-26f3-4af0-ef6d-5f7aa4925148"
      },
      "cell_type": "code",
      "source": [
        "pd.DataFrame(res.x).describe()"
      ],
      "execution_count": 23,
      "outputs": [
        {
          "output_type": "execute_result",
          "data": {
            "text/html": [
              "<div>\n",
              "<style scoped>\n",
              "    .dataframe tbody tr th:only-of-type {\n",
              "        vertical-align: middle;\n",
              "    }\n",
              "\n",
              "    .dataframe tbody tr th {\n",
              "        vertical-align: top;\n",
              "    }\n",
              "\n",
              "    .dataframe thead th {\n",
              "        text-align: right;\n",
              "    }\n",
              "</style>\n",
              "<table border=\"1\" class=\"dataframe\">\n",
              "  <thead>\n",
              "    <tr style=\"text-align: right;\">\n",
              "      <th></th>\n",
              "      <th>0</th>\n",
              "    </tr>\n",
              "  </thead>\n",
              "  <tbody>\n",
              "    <tr>\n",
              "      <th>count</th>\n",
              "      <td>7.949000e+03</td>\n",
              "    </tr>\n",
              "    <tr>\n",
              "      <th>mean</th>\n",
              "      <td>2.743306e-02</td>\n",
              "    </tr>\n",
              "    <tr>\n",
              "      <th>std</th>\n",
              "      <td>6.956929e-02</td>\n",
              "    </tr>\n",
              "    <tr>\n",
              "      <th>min</th>\n",
              "      <td>0.000000e+00</td>\n",
              "    </tr>\n",
              "    <tr>\n",
              "      <th>25%</th>\n",
              "      <td>5.247617e-19</td>\n",
              "    </tr>\n",
              "    <tr>\n",
              "      <th>50%</th>\n",
              "      <td>2.125479e-18</td>\n",
              "    </tr>\n",
              "    <tr>\n",
              "      <th>75%</th>\n",
              "      <td>1.326918e-02</td>\n",
              "    </tr>\n",
              "    <tr>\n",
              "      <th>max</th>\n",
              "      <td>4.537031e-01</td>\n",
              "    </tr>\n",
              "  </tbody>\n",
              "</table>\n",
              "</div>"
            ],
            "text/plain": [
              "                  0\n",
              "count  7.949000e+03\n",
              "mean   2.743306e-02\n",
              "std    6.956929e-02\n",
              "min    0.000000e+00\n",
              "25%    5.247617e-19\n",
              "50%    2.125479e-18\n",
              "75%    1.326918e-02\n",
              "max    4.537031e-01"
            ]
          },
          "metadata": {
            "tags": []
          },
          "execution_count": 23
        }
      ]
    },
    {
      "metadata": {
        "id": "Wh9aQQ90UDOU",
        "colab_type": "code",
        "colab": {
          "base_uri": "https://localhost:8080/",
          "height": 347
        },
        "outputId": "694f4e03-c91d-487d-e699-2560cffdf085"
      },
      "cell_type": "code",
      "source": [
        "plt.hist(res.x, bins=100)\n",
        "plt.show()"
      ],
      "execution_count": 24,
      "outputs": [
        {
          "output_type": "display_data",
          "data": {
            "image/png": "[encoded data removed]",
            "text/plain": [
              "<matplotlib.figure.Figure at 0x7f0b84a65470>"
            ]
          },
          "metadata": {
            "tags": []
          }
        }
      ]
    },
    {
      "metadata": {
        "id": "x-G-gumCaddx",
        "colab_type": "code",
        "colab": {
          "base_uri": "https://localhost:8080/",
          "height": 347
        },
        "outputId": "d84bfff0-cabc-464a-fcba-819e0c108174"
      },
      "cell_type": "code",
      "source": [
        "plt.hist(res.x[res.x.round(3)!=0.000], bins=100)\n",
        "plt.show()"
      ],
      "execution_count": 25,
      "outputs": [
        {
          "output_type": "display_data",
          "data": {
            "image/png": "[encoded data removed]",
            "text/plain": [
              "<matplotlib.figure.Figure at 0x7f0b84de9e80>"
            ]
          },
          "metadata": {
            "tags": []
          }
        }
      ]
    },
    {
      "metadata": {
        "id": "oXbnL7GYUg-r",
        "colab_type": "code",
        "colab": {}
      },
      "cell_type": "code",
      "source": [
        "Itinerary = fare_data['Itinerary'].values"
      ],
      "execution_count": 0,
      "outputs": []
    },
    {
      "metadata": {
        "id": "WYMeIWKOVBhk",
        "colab_type": "code",
        "colab": {
          "base_uri": "https://localhost:8080/",
          "height": 33
        },
        "outputId": "98e18474-6370-420c-975b-0bf9c5717a59"
      },
      "cell_type": "code",
      "source": [
        "print(\"The itinerary with the highest demand of %f is %s\"%(np.max(res.x),Itinerary[res.x == np.max(res.x)]))"
      ],
      "execution_count": 27,
      "outputs": [
        {
          "output_type": "stream",
          "text": [
            "The itinerary with the highest demand of 0.453703 is ['445347**G******20020920']\n"
          ],
          "name": "stdout"
        }
      ]
    },
    {
      "metadata": {
        "id": "YX2R2RblVwrC",
        "colab_type": "code",
        "colab": {
          "base_uri": "https://localhost:8080/",
          "height": 84
        },
        "outputId": "c28b4828-6711-4e6d-9674-be733ef8d36d"
      },
      "cell_type": "code",
      "source": [
        "Itinerary[np.flip(np.argsort(res.x),0)]"
      ],
      "execution_count": 28,
      "outputs": [
        {
          "output_type": "execute_result",
          "data": {
            "text/plain": [
              "array(['445347**G******20020920', '32496**I******20020920',\n",
              "       '14798FRICDGTUN20020920', ..., '21058164AEIDXBGVA20020920',\n",
              "       '21058164CHIDXBGVA20020920', '21058593CHIDXBGVA20020920'],\n",
              "      dtype=object)"
            ]
          },
          "metadata": {
            "tags": []
          },
          "execution_count": 28
        }
      ]
    },
    {
      "metadata": {
        "id": "VM_s3X5kblix",
        "colab_type": "code",
        "colab": {
          "base_uri": "https://localhost:8080/",
          "height": 196
        },
        "outputId": "ef7cf941-3c34-4464-e6ea-a4e046f70218"
      },
      "cell_type": "code",
      "source": [
        "itinerary_demand = pd.DataFrame({'Itinerary': Itinerary[np.flip(np.argsort(res.x),0)],'Demand_solution': res.x[np.flip(np.argsort(res.x),0)]})\n",
        "itinerary_demand.head()"
      ],
      "execution_count": 30,
      "outputs": [
        {
          "output_type": "execute_result",
          "data": {
            "text/html": [
              "<div>\n",
              "<style scoped>\n",
              "    .dataframe tbody tr th:only-of-type {\n",
              "        vertical-align: middle;\n",
              "    }\n",
              "\n",
              "    .dataframe tbody tr th {\n",
              "        vertical-align: top;\n",
              "    }\n",
              "\n",
              "    .dataframe thead th {\n",
              "        text-align: right;\n",
              "    }\n",
              "</style>\n",
              "<table border=\"1\" class=\"dataframe\">\n",
              "  <thead>\n",
              "    <tr style=\"text-align: right;\">\n",
              "      <th></th>\n",
              "      <th>Demand_solution</th>\n",
              "      <th>Itinerary</th>\n",
              "    </tr>\n",
              "  </thead>\n",
              "  <tbody>\n",
              "    <tr>\n",
              "      <th>0</th>\n",
              "      <td>0.453703</td>\n",
              "      <td>445347**G******20020920</td>\n",
              "    </tr>\n",
              "    <tr>\n",
              "      <th>1</th>\n",
              "      <td>0.444859</td>\n",
              "      <td>32496**I******20020920</td>\n",
              "    </tr>\n",
              "    <tr>\n",
              "      <th>2</th>\n",
              "      <td>0.444859</td>\n",
              "      <td>14798FRICDGTUN20020920</td>\n",
              "    </tr>\n",
              "    <tr>\n",
              "      <th>3</th>\n",
              "      <td>0.444859</td>\n",
              "      <td>173106**G******20020920</td>\n",
              "    </tr>\n",
              "    <tr>\n",
              "      <th>4</th>\n",
              "      <td>0.444859</td>\n",
              "      <td>5336**I******20020920</td>\n",
              "    </tr>\n",
              "  </tbody>\n",
              "</table>\n",
              "</div>"
            ],
            "text/plain": [
              "   Demand_solution                Itinerary\n",
              "0         0.453703  445347**G******20020920\n",
              "1         0.444859   32496**I******20020920\n",
              "2         0.444859   14798FRICDGTUN20020920\n",
              "3         0.444859  173106**G******20020920\n",
              "4         0.444859    5336**I******20020920"
            ]
          },
          "metadata": {
            "tags": []
          },
          "execution_count": 30
        }
      ]
    },
    {
      "metadata": {
        "id": "HRJknTJpdicW",
        "colab_type": "code",
        "colab": {}
      },
      "cell_type": "code",
      "source": [
        "def flight_details(input_key):\n",
        "  for k,v in flight_it_dict.items():\n",
        "    if k == input_key:\n",
        "      return v"
      ],
      "execution_count": 0,
      "outputs": []
    },
    {
      "metadata": {
        "id": "U48CJP2vehGV",
        "colab_type": "code",
        "colab": {}
      },
      "cell_type": "code",
      "source": [
        "itinerary_demand['Flight_details'] = itinerary_demand.Itinerary.apply(flight_details)"
      ],
      "execution_count": 0,
      "outputs": []
    },
    {
      "metadata": {
        "id": "QTFyg9SufukP",
        "colab_type": "code",
        "colab": {
          "base_uri": "https://localhost:8080/",
          "height": 494
        },
        "outputId": "d24324ea-6142-4f1c-b9b9-642c305b7562"
      },
      "cell_type": "code",
      "source": [
        "itinerary_demand.head(15)"
      ],
      "execution_count": 33,
      "outputs": [
        {
          "output_type": "execute_result",
          "data": {
            "text/html": [
              "<div>\n",
              "<style scoped>\n",
              "    .dataframe tbody tr th:only-of-type {\n",
              "        vertical-align: middle;\n",
              "    }\n",
              "\n",
              "    .dataframe tbody tr th {\n",
              "        vertical-align: top;\n",
              "    }\n",
              "\n",
              "    .dataframe thead th {\n",
              "        text-align: right;\n",
              "    }\n",
              "</style>\n",
              "<table border=\"1\" class=\"dataframe\">\n",
              "  <thead>\n",
              "    <tr style=\"text-align: right;\">\n",
              "      <th></th>\n",
              "      <th>Demand_solution</th>\n",
              "      <th>Itinerary</th>\n",
              "      <th>Flight_details</th>\n",
              "    </tr>\n",
              "  </thead>\n",
              "  <tbody>\n",
              "    <tr>\n",
              "      <th>0</th>\n",
              "      <td>0.453703</td>\n",
              "      <td>445347**G******20020920</td>\n",
              "      <td>[LX0108120020920FRAZRHY]</td>\n",
              "    </tr>\n",
              "    <tr>\n",
              "      <th>1</th>\n",
              "      <td>0.444859</td>\n",
              "      <td>32496**I******20020920</td>\n",
              "      <td>[LX0064720020920CDGZRHY]</td>\n",
              "    </tr>\n",
              "    <tr>\n",
              "      <th>2</th>\n",
              "      <td>0.444859</td>\n",
              "      <td>14798FRICDGTUN20020920</td>\n",
              "      <td>[LX0064720020920CDGZRHY]</td>\n",
              "    </tr>\n",
              "    <tr>\n",
              "      <th>3</th>\n",
              "      <td>0.444859</td>\n",
              "      <td>173106**G******20020920</td>\n",
              "      <td>[LX0064720020920CDGZRHY]</td>\n",
              "    </tr>\n",
              "    <tr>\n",
              "      <th>4</th>\n",
              "      <td>0.444859</td>\n",
              "      <td>5336**I******20020920</td>\n",
              "      <td>[LX0064720020920CDGZRHY]</td>\n",
              "    </tr>\n",
              "    <tr>\n",
              "      <th>5</th>\n",
              "      <td>0.444859</td>\n",
              "      <td>36603**I******20020920</td>\n",
              "      <td>[LX0064720020920CDGZRHY]</td>\n",
              "    </tr>\n",
              "    <tr>\n",
              "      <th>6</th>\n",
              "      <td>0.444859</td>\n",
              "      <td>27660FRICDGTUN20020920</td>\n",
              "      <td>[LX0064720020920CDGZRHY]</td>\n",
              "    </tr>\n",
              "    <tr>\n",
              "      <th>7</th>\n",
              "      <td>0.442976</td>\n",
              "      <td>24889**GZRHPRG20020920</td>\n",
              "      <td>[LX0148620020920ZRHPRGY]</td>\n",
              "    </tr>\n",
              "    <tr>\n",
              "      <th>8</th>\n",
              "      <td>0.442976</td>\n",
              "      <td>47483CHIZRHPRG20020920</td>\n",
              "      <td>[LX0148620020920ZRHPRGY]</td>\n",
              "    </tr>\n",
              "    <tr>\n",
              "      <th>9</th>\n",
              "      <td>0.442976</td>\n",
              "      <td>24889CHGZRHPRG20020920</td>\n",
              "      <td>[LX0148620020920ZRHPRGY]</td>\n",
              "    </tr>\n",
              "    <tr>\n",
              "      <th>10</th>\n",
              "      <td>0.442419</td>\n",
              "      <td>34920**I******20020920</td>\n",
              "      <td>[LX0077120020920BRUZRHY]</td>\n",
              "    </tr>\n",
              "    <tr>\n",
              "      <th>11</th>\n",
              "      <td>0.439872</td>\n",
              "      <td>7947**I******20020919</td>\n",
              "      <td>[LX0132620020920ZRHDMEY]</td>\n",
              "    </tr>\n",
              "    <tr>\n",
              "      <th>12</th>\n",
              "      <td>0.439872</td>\n",
              "      <td>20847**I******20020919</td>\n",
              "      <td>[LX0132620020920ZRHDMEY]</td>\n",
              "    </tr>\n",
              "    <tr>\n",
              "      <th>13</th>\n",
              "      <td>0.439872</td>\n",
              "      <td>4099**I******20020919</td>\n",
              "      <td>[LX0132620020920ZRHDMEY]</td>\n",
              "    </tr>\n",
              "    <tr>\n",
              "      <th>14</th>\n",
              "      <td>0.439126</td>\n",
              "      <td>282110**G******20020920</td>\n",
              "      <td>[LX0130520020920OSLZRHY]</td>\n",
              "    </tr>\n",
              "  </tbody>\n",
              "</table>\n",
              "</div>"
            ],
            "text/plain": [
              "    Demand_solution                Itinerary            Flight_details\n",
              "0          0.453703  445347**G******20020920  [LX0108120020920FRAZRHY]\n",
              "1          0.444859   32496**I******20020920  [LX0064720020920CDGZRHY]\n",
              "2          0.444859   14798FRICDGTUN20020920  [LX0064720020920CDGZRHY]\n",
              "3          0.444859  173106**G******20020920  [LX0064720020920CDGZRHY]\n",
              "4          0.444859    5336**I******20020920  [LX0064720020920CDGZRHY]\n",
              "5          0.444859   36603**I******20020920  [LX0064720020920CDGZRHY]\n",
              "6          0.444859   27660FRICDGTUN20020920  [LX0064720020920CDGZRHY]\n",
              "7          0.442976   24889**GZRHPRG20020920  [LX0148620020920ZRHPRGY]\n",
              "8          0.442976   47483CHIZRHPRG20020920  [LX0148620020920ZRHPRGY]\n",
              "9          0.442976   24889CHGZRHPRG20020920  [LX0148620020920ZRHPRGY]\n",
              "10         0.442419   34920**I******20020920  [LX0077120020920BRUZRHY]\n",
              "11         0.439872    7947**I******20020919  [LX0132620020920ZRHDMEY]\n",
              "12         0.439872   20847**I******20020919  [LX0132620020920ZRHDMEY]\n",
              "13         0.439872    4099**I******20020919  [LX0132620020920ZRHDMEY]\n",
              "14         0.439126  282110**G******20020920  [LX0130520020920OSLZRHY]"
            ]
          },
          "metadata": {
            "tags": []
          },
          "execution_count": 33
        }
      ]
    },
    {
      "metadata": {
        "id": "3Li88fkjgnxG",
        "colab_type": "code",
        "colab": {
          "base_uri": "https://localhost:8080/",
          "height": 33
        },
        "outputId": "fba6db9d-0654-40be-c4b3-7b1552f7e6a9"
      },
      "cell_type": "code",
      "source": [
        "itinerary_demand.shape\n",
        "len(itinerary_demand.Demand_solution.round(5).unique())"
      ],
      "execution_count": 34,
      "outputs": [
        {
          "output_type": "execute_result",
          "data": {
            "text/plain": [
              "2355"
            ]
          },
          "metadata": {
            "tags": []
          },
          "execution_count": 34
        }
      ]
    },
    {
      "metadata": {
        "id": "6MezCmp9Xowb",
        "colab_type": "code",
        "colab": {
          "base_uri": "https://localhost:8080/",
          "height": 268
        },
        "outputId": "1e2c7b3b-8dc3-447f-8fea-6ff2d8068b55"
      },
      "cell_type": "code",
      "source": [
        "for lab, row in itinerary_demand.iterrows():\n",
        "  if lab < 15:\n",
        "    print(\"The Itineary is \" + row['Itinerary'] + \" and the demand is \"+ str(row['Demand_solution']))\n",
        "  else:\n",
        "    break\n",
        "   "
      ],
      "execution_count": 35,
      "outputs": [
        {
          "output_type": "stream",
          "text": [
            "The Itineary is 445347**G******20020920 and the demand is 0.4537030992498186\n",
            "The Itineary is 32496**I******20020920 and the demand is 0.4448590879430726\n",
            "The Itineary is 14798FRICDGTUN20020920 and the demand is 0.4448590879430719\n",
            "The Itineary is 173106**G******20020920 and the demand is 0.44485908794306145\n",
            "The Itineary is 5336**I******20020920 and the demand is 0.44485908794306117\n",
            "The Itineary is 36603**I******20020920 and the demand is 0.44485908794305484\n",
            "The Itineary is 27660FRICDGTUN20020920 and the demand is 0.4448590879430539\n",
            "The Itineary is 24889**GZRHPRG20020920 and the demand is 0.4429760531244266\n",
            "The Itineary is 47483CHIZRHPRG20020920 and the demand is 0.4429760531244226\n",
            "The Itineary is 24889CHGZRHPRG20020920 and the demand is 0.442976053124415\n",
            "The Itineary is 34920**I******20020920 and the demand is 0.442419041481141\n",
            "The Itineary is 7947**I******20020919 and the demand is 0.4398722952811725\n",
            "The Itineary is 20847**I******20020919 and the demand is 0.439872295281172\n",
            "The Itineary is 4099**I******20020919 and the demand is 0.4398722952811706\n",
            "The Itineary is 282110**G******20020920 and the demand is 0.4391262127882417\n"
          ],
          "name": "stdout"
        }
      ]
    },
    {
      "metadata": {
        "id": "uafak6rAa7Wl",
        "colab_type": "code",
        "colab": {
          "base_uri": "https://localhost:8080/",
          "height": 196
        },
        "outputId": "1c60ffff-e49f-4c73-d621-61338841877b"
      },
      "cell_type": "code",
      "source": [
        "#list of itinerary having more than 2 possible flights\n",
        "itinerary_demand[np.array([ len(i) for i in itinerary_demand.Flight_details ]) > 1].head()"
      ],
      "execution_count": 52,
      "outputs": [
        {
          "output_type": "execute_result",
          "data": {
            "text/html": [
              "<div>\n",
              "<style scoped>\n",
              "    .dataframe tbody tr th:only-of-type {\n",
              "        vertical-align: middle;\n",
              "    }\n",
              "\n",
              "    .dataframe tbody tr th {\n",
              "        vertical-align: top;\n",
              "    }\n",
              "\n",
              "    .dataframe thead th {\n",
              "        text-align: right;\n",
              "    }\n",
              "</style>\n",
              "<table border=\"1\" class=\"dataframe\">\n",
              "  <thead>\n",
              "    <tr style=\"text-align: right;\">\n",
              "      <th></th>\n",
              "      <th>Demand_solution</th>\n",
              "      <th>Itinerary</th>\n",
              "      <th>Flight_details</th>\n",
              "    </tr>\n",
              "  </thead>\n",
              "  <tbody>\n",
              "    <tr>\n",
              "      <th>87</th>\n",
              "      <td>0.380447</td>\n",
              "      <td>226040**G******20020920</td>\n",
              "      <td>[LX0130520020920OSLZRHY, LX0056220020920ZRHNCEY]</td>\n",
              "    </tr>\n",
              "    <tr>\n",
              "      <th>88</th>\n",
              "      <td>0.376806</td>\n",
              "      <td>81151**G******20020920</td>\n",
              "      <td>[LX0280520020920GVAZRHY, LX0148620020920ZRHPRGY]</td>\n",
              "    </tr>\n",
              "    <tr>\n",
              "      <th>89</th>\n",
              "      <td>0.376806</td>\n",
              "      <td>81151CHGGVAPRG20020920</td>\n",
              "      <td>[LX0280520020920GVAZRHY, LX0148620020920ZRHPRGY]</td>\n",
              "    </tr>\n",
              "    <tr>\n",
              "      <th>102</th>\n",
              "      <td>0.358973</td>\n",
              "      <td>242580**I******20020920</td>\n",
              "      <td>[LX0039820020920JERGCIY, LX0039820020920GCIZRHY]</td>\n",
              "    </tr>\n",
              "    <tr>\n",
              "      <th>109</th>\n",
              "      <td>0.350882</td>\n",
              "      <td>23387**I******20020920</td>\n",
              "      <td>[LX0024720020920KHIDXBC, LX0024720020920DXBZRHC]</td>\n",
              "    </tr>\n",
              "  </tbody>\n",
              "</table>\n",
              "</div>"
            ],
            "text/plain": [
              "     Demand_solution                Itinerary  \\\n",
              "87          0.380447  226040**G******20020920   \n",
              "88          0.376806   81151**G******20020920   \n",
              "89          0.376806   81151CHGGVAPRG20020920   \n",
              "102         0.358973  242580**I******20020920   \n",
              "109         0.350882   23387**I******20020920   \n",
              "\n",
              "                                       Flight_details  \n",
              "87   [LX0130520020920OSLZRHY, LX0056220020920ZRHNCEY]  \n",
              "88   [LX0280520020920GVAZRHY, LX0148620020920ZRHPRGY]  \n",
              "89   [LX0280520020920GVAZRHY, LX0148620020920ZRHPRGY]  \n",
              "102  [LX0039820020920JERGCIY, LX0039820020920GCIZRHY]  \n",
              "109  [LX0024720020920KHIDXBC, LX0024720020920DXBZRHC]  "
            ]
          },
          "metadata": {
            "tags": []
          },
          "execution_count": 52
        }
      ]
    },
    {
      "metadata": {
        "id": "B1M9vgbGL6IH",
        "colab_type": "code",
        "colab": {
          "base_uri": "https://localhost:8080/",
          "height": 1240
        },
        "outputId": "44339ad4-5db6-4ced-b920-6230c7e8ac09"
      },
      "cell_type": "code",
      "source": [
        "#list of itinerary having more than 2 possible flights\n",
        "itinerary_demand[np.array([ len(i) for i in itinerary_demand.Flight_details ]) > 2]"
      ],
      "execution_count": 56,
      "outputs": [
        {
          "output_type": "execute_result",
          "data": {
            "text/html": [
              "<div>\n",
              "<style scoped>\n",
              "    .dataframe tbody tr th:only-of-type {\n",
              "        vertical-align: middle;\n",
              "    }\n",
              "\n",
              "    .dataframe tbody tr th {\n",
              "        vertical-align: top;\n",
              "    }\n",
              "\n",
              "    .dataframe thead th {\n",
              "        text-align: right;\n",
              "    }\n",
              "</style>\n",
              "<table border=\"1\" class=\"dataframe\">\n",
              "  <thead>\n",
              "    <tr style=\"text-align: right;\">\n",
              "      <th></th>\n",
              "      <th>Demand_solution</th>\n",
              "      <th>Itinerary</th>\n",
              "      <th>Flight_details</th>\n",
              "    </tr>\n",
              "  </thead>\n",
              "  <tbody>\n",
              "    <tr>\n",
              "      <th>166</th>\n",
              "      <td>2.906860e-01</td>\n",
              "      <td>62390**I******20020919</td>\n",
              "      <td>[LX0009520020919EZEGRUY, LX0009520020919GRUZRH...</td>\n",
              "    </tr>\n",
              "    <tr>\n",
              "      <th>217</th>\n",
              "      <td>2.435433e-01</td>\n",
              "      <td>135753**I******20020919</td>\n",
              "      <td>[LX0009520020919EZEGRUY, LX0009520020919GRUZRH...</td>\n",
              "    </tr>\n",
              "    <tr>\n",
              "      <th>225</th>\n",
              "      <td>2.404918e-01</td>\n",
              "      <td>130941**I******20020919</td>\n",
              "      <td>[LX0009520020919EZEGRUY, LX0009520020919GRUZRH...</td>\n",
              "    </tr>\n",
              "    <tr>\n",
              "      <th>322</th>\n",
              "      <td>1.892905e-01</td>\n",
              "      <td>29597**I******20020919</td>\n",
              "      <td>[LX0009520020919EZEGRUY, LX0009520020919GRUZRH...</td>\n",
              "    </tr>\n",
              "    <tr>\n",
              "      <th>585</th>\n",
              "      <td>1.167127e-01</td>\n",
              "      <td>331528**I******20020919</td>\n",
              "      <td>[LX0009520020919EZEGRUC, LX0009520020919GRUZRH...</td>\n",
              "    </tr>\n",
              "    <tr>\n",
              "      <th>746</th>\n",
              "      <td>9.643141e-02</td>\n",
              "      <td>334387**I******20020919</td>\n",
              "      <td>[LX0009520020919EZEGRUY, LX0009520020919GRUZRH...</td>\n",
              "    </tr>\n",
              "    <tr>\n",
              "      <th>1249</th>\n",
              "      <td>5.127185e-02</td>\n",
              "      <td>338882**I******20020919</td>\n",
              "      <td>[LX0009520020919EZEGRUY, LX0009520020919GRUZRH...</td>\n",
              "    </tr>\n",
              "    <tr>\n",
              "      <th>1562</th>\n",
              "      <td>2.942185e-02</td>\n",
              "      <td>59868**I******20020919</td>\n",
              "      <td>[LX0009520020919EZEGRUY, LX0009520020919GRUZRH...</td>\n",
              "    </tr>\n",
              "    <tr>\n",
              "      <th>1789</th>\n",
              "      <td>1.889234e-02</td>\n",
              "      <td>138465**I******20020919</td>\n",
              "      <td>[LX0009520020919EZEGRUY, LX0009520020919GRUZRH...</td>\n",
              "    </tr>\n",
              "    <tr>\n",
              "      <th>1811</th>\n",
              "      <td>1.816391e-02</td>\n",
              "      <td>569802**I******20020919</td>\n",
              "      <td>[LX0009520020919EZEGRUY, LX0009520020919GRUZRH...</td>\n",
              "    </tr>\n",
              "    <tr>\n",
              "      <th>1914</th>\n",
              "      <td>1.537644e-02</td>\n",
              "      <td>642662**I******20020920</td>\n",
              "      <td>[LX0108120020920FRAZRHY, LX0039820020920ZRHJER...</td>\n",
              "    </tr>\n",
              "    <tr>\n",
              "      <th>1942</th>\n",
              "      <td>1.465114e-02</td>\n",
              "      <td>269890**I******20020920</td>\n",
              "      <td>[LX0024720020920KHIDXBC, LX0024720020920DXBZRH...</td>\n",
              "    </tr>\n",
              "    <tr>\n",
              "      <th>1968</th>\n",
              "      <td>1.378507e-02</td>\n",
              "      <td>21070949**I******20020920</td>\n",
              "      <td>[LX0108120020920FRAZRHY, LX0039820020920ZRHJER...</td>\n",
              "    </tr>\n",
              "    <tr>\n",
              "      <th>1994</th>\n",
              "      <td>1.315115e-02</td>\n",
              "      <td>497723**I******20020919</td>\n",
              "      <td>[LX0009520020919EZEGRUC, LX0009520020919GRUZRH...</td>\n",
              "    </tr>\n",
              "    <tr>\n",
              "      <th>2289</th>\n",
              "      <td>7.574452e-03</td>\n",
              "      <td>21070942**I******20020920</td>\n",
              "      <td>[LX0108120020920FRAZRHY, LX0039820020920ZRHJER...</td>\n",
              "    </tr>\n",
              "    <tr>\n",
              "      <th>2377</th>\n",
              "      <td>4.927619e-03</td>\n",
              "      <td>17494**I******20020919</td>\n",
              "      <td>[LX0009520020919EZEGRUY, LX0009520020919GRUZRH...</td>\n",
              "    </tr>\n",
              "    <tr>\n",
              "      <th>2408</th>\n",
              "      <td>4.211280e-03</td>\n",
              "      <td>138251**I******20020919</td>\n",
              "      <td>[LX0009520020919EZEGRUY, LX0009520020919GRUZRH...</td>\n",
              "    </tr>\n",
              "    <tr>\n",
              "      <th>2708</th>\n",
              "      <td>1.330927e-03</td>\n",
              "      <td>530579**I******20020919</td>\n",
              "      <td>[LX0009520020919EZEGRUC, LX0009520020919GRUZRH...</td>\n",
              "    </tr>\n",
              "    <tr>\n",
              "      <th>2800</th>\n",
              "      <td>1.145817e-03</td>\n",
              "      <td>17619**I******20020920</td>\n",
              "      <td>[LX0024720020920KHIDXBY, LX0024720020920DXBZRH...</td>\n",
              "    </tr>\n",
              "    <tr>\n",
              "      <th>2801</th>\n",
              "      <td>1.145817e-03</td>\n",
              "      <td>306849**I******20020920</td>\n",
              "      <td>[LX0024720020920KHIDXBY, LX0024720020920DXBZRH...</td>\n",
              "    </tr>\n",
              "    <tr>\n",
              "      <th>2941</th>\n",
              "      <td>9.024009e-04</td>\n",
              "      <td>227310**I******20020920</td>\n",
              "      <td>[LX0024720020920KHIDXBY, LX0024720020920DXBZRH...</td>\n",
              "    </tr>\n",
              "    <tr>\n",
              "      <th>3048</th>\n",
              "      <td>7.586949e-04</td>\n",
              "      <td>377532**I******20020919</td>\n",
              "      <td>[LX0009520020919EZEGRUY, LX0009520020919GRUZRH...</td>\n",
              "    </tr>\n",
              "    <tr>\n",
              "      <th>3064</th>\n",
              "      <td>7.395731e-04</td>\n",
              "      <td>485817**I******20020919</td>\n",
              "      <td>[LX0009520020919EZEGRUC, LX0009520020919GRUZRH...</td>\n",
              "    </tr>\n",
              "    <tr>\n",
              "      <th>3109</th>\n",
              "      <td>6.855375e-04</td>\n",
              "      <td>166659**I******20020919</td>\n",
              "      <td>[LX0009520020919EZEGRUY, LX0009520020919GRUZRH...</td>\n",
              "    </tr>\n",
              "    <tr>\n",
              "      <th>3123</th>\n",
              "      <td>6.398634e-04</td>\n",
              "      <td>277992**I******20020920</td>\n",
              "      <td>[LX0024720020920KHIDXBC, LX0024720020920DXBZRH...</td>\n",
              "    </tr>\n",
              "    <tr>\n",
              "      <th>3165</th>\n",
              "      <td>5.746778e-04</td>\n",
              "      <td>311887**I******20020919</td>\n",
              "      <td>[LX0009520020919EZEGRUY, LX0009520020919GRUZRH...</td>\n",
              "    </tr>\n",
              "    <tr>\n",
              "      <th>3172</th>\n",
              "      <td>5.637405e-04</td>\n",
              "      <td>862008**I******20020920</td>\n",
              "      <td>[LX0024720020920KHIDXBY, LX0024720020920DXBZRH...</td>\n",
              "    </tr>\n",
              "    <tr>\n",
              "      <th>3262</th>\n",
              "      <td>3.776639e-04</td>\n",
              "      <td>244449**G******20020919</td>\n",
              "      <td>[LX0009520020919EZEGRUY, LX0009520020919GRUZRH...</td>\n",
              "    </tr>\n",
              "    <tr>\n",
              "      <th>3382</th>\n",
              "      <td>1.383442e-04</td>\n",
              "      <td>293507**I******20020920</td>\n",
              "      <td>[LX0024720020920KHIDXBY, LX0024720020920DXBZRH...</td>\n",
              "    </tr>\n",
              "    <tr>\n",
              "      <th>3703</th>\n",
              "      <td>3.338128e-05</td>\n",
              "      <td>121161**I******20020920</td>\n",
              "      <td>[LX0024720020920KHIDXBY, LX0024720020920DXBZRH...</td>\n",
              "    </tr>\n",
              "    <tr>\n",
              "      <th>3704</th>\n",
              "      <td>3.329541e-05</td>\n",
              "      <td>73522**I******20020919</td>\n",
              "      <td>[LX0009520020919EZEGRUY, LX0009520020919GRUZRH...</td>\n",
              "    </tr>\n",
              "    <tr>\n",
              "      <th>4057</th>\n",
              "      <td>1.913747e-18</td>\n",
              "      <td>643510**I******20020920</td>\n",
              "      <td>[LX0280720020920GVAZRHY, LX0039820020920ZRHJER...</td>\n",
              "    </tr>\n",
              "    <tr>\n",
              "      <th>5877</th>\n",
              "      <td>5.502797e-19</td>\n",
              "      <td>21101106**I******20020920</td>\n",
              "      <td>[LX0280720020920GVAZRHC, LX0039820020920ZRHJER...</td>\n",
              "    </tr>\n",
              "    <tr>\n",
              "      <th>6117</th>\n",
              "      <td>4.753701e-19</td>\n",
              "      <td>464769**I******20020920</td>\n",
              "      <td>[LX0024720020920KHIDXBY, LX0024720020920DXBZRH...</td>\n",
              "    </tr>\n",
              "    <tr>\n",
              "      <th>6323</th>\n",
              "      <td>4.181105e-19</td>\n",
              "      <td>836384**I******20020920</td>\n",
              "      <td>[LX0024720020920KHIDXBC, LX0024720020920DXBZRH...</td>\n",
              "    </tr>\n",
              "    <tr>\n",
              "      <th>6362</th>\n",
              "      <td>4.090044e-19</td>\n",
              "      <td>447**I******20020920</td>\n",
              "      <td>[LX0024720020920KHIDXBY, LX0024720020920DXBZRH...</td>\n",
              "    </tr>\n",
              "    <tr>\n",
              "      <th>6595</th>\n",
              "      <td>3.393839e-19</td>\n",
              "      <td>497133**I******20020920</td>\n",
              "      <td>[LX0024720020920KHIDXBY, LX0024720020920DXBZRH...</td>\n",
              "    </tr>\n",
              "    <tr>\n",
              "      <th>7184</th>\n",
              "      <td>1.912887e-19</td>\n",
              "      <td>236370**I******20020920</td>\n",
              "      <td>[LX0024720020920KHIDXBY, LX0024720020920DXBZRH...</td>\n",
              "    </tr>\n",
              "    <tr>\n",
              "      <th>7484</th>\n",
              "      <td>1.429151e-19</td>\n",
              "      <td>47236**I******20020920</td>\n",
              "      <td>[LX0024720020920KHIDXBC, LX0024720020920DXBZRH...</td>\n",
              "    </tr>\n",
              "    <tr>\n",
              "      <th>7617</th>\n",
              "      <td>1.247362e-19</td>\n",
              "      <td>699165**I******20020920</td>\n",
              "      <td>[LX0024720020920KHIDXBY, LX0024720020920DXBZRH...</td>\n",
              "    </tr>\n",
              "  </tbody>\n",
              "</table>\n",
              "</div>"
            ],
            "text/plain": [
              "      Demand_solution                  Itinerary  \\\n",
              "166      2.906860e-01     62390**I******20020919   \n",
              "217      2.435433e-01    135753**I******20020919   \n",
              "225      2.404918e-01    130941**I******20020919   \n",
              "322      1.892905e-01     29597**I******20020919   \n",
              "585      1.167127e-01    331528**I******20020919   \n",
              "746      9.643141e-02    334387**I******20020919   \n",
              "1249     5.127185e-02    338882**I******20020919   \n",
              "1562     2.942185e-02     59868**I******20020919   \n",
              "1789     1.889234e-02    138465**I******20020919   \n",
              "1811     1.816391e-02    569802**I******20020919   \n",
              "1914     1.537644e-02    642662**I******20020920   \n",
              "1942     1.465114e-02    269890**I******20020920   \n",
              "1968     1.378507e-02  21070949**I******20020920   \n",
              "1994     1.315115e-02    497723**I******20020919   \n",
              "2289     7.574452e-03  21070942**I******20020920   \n",
              "2377     4.927619e-03     17494**I******20020919   \n",
              "2408     4.211280e-03    138251**I******20020919   \n",
              "2708     1.330927e-03    530579**I******20020919   \n",
              "2800     1.145817e-03     17619**I******20020920   \n",
              "2801     1.145817e-03    306849**I******20020920   \n",
              "2941     9.024009e-04    227310**I******20020920   \n",
              "3048     7.586949e-04    377532**I******20020919   \n",
              "3064     7.395731e-04    485817**I******20020919   \n",
              "3109     6.855375e-04    166659**I******20020919   \n",
              "3123     6.398634e-04    277992**I******20020920   \n",
              "3165     5.746778e-04    311887**I******20020919   \n",
              "3172     5.637405e-04    862008**I******20020920   \n",
              "3262     3.776639e-04    244449**G******20020919   \n",
              "3382     1.383442e-04    293507**I******20020920   \n",
              "3703     3.338128e-05    121161**I******20020920   \n",
              "3704     3.329541e-05     73522**I******20020919   \n",
              "4057     1.913747e-18    643510**I******20020920   \n",
              "5877     5.502797e-19  21101106**I******20020920   \n",
              "6117     4.753701e-19    464769**I******20020920   \n",
              "6323     4.181105e-19    836384**I******20020920   \n",
              "6362     4.090044e-19       447**I******20020920   \n",
              "6595     3.393839e-19    497133**I******20020920   \n",
              "7184     1.912887e-19    236370**I******20020920   \n",
              "7484     1.429151e-19     47236**I******20020920   \n",
              "7617     1.247362e-19    699165**I******20020920   \n",
              "\n",
              "                                         Flight_details  \n",
              "166   [LX0009520020919EZEGRUY, LX0009520020919GRUZRH...  \n",
              "217   [LX0009520020919EZEGRUY, LX0009520020919GRUZRH...  \n",
              "225   [LX0009520020919EZEGRUY, LX0009520020919GRUZRH...  \n",
              "322   [LX0009520020919EZEGRUY, LX0009520020919GRUZRH...  \n",
              "585   [LX0009520020919EZEGRUC, LX0009520020919GRUZRH...  \n",
              "746   [LX0009520020919EZEGRUY, LX0009520020919GRUZRH...  \n",
              "1249  [LX0009520020919EZEGRUY, LX0009520020919GRUZRH...  \n",
              "1562  [LX0009520020919EZEGRUY, LX0009520020919GRUZRH...  \n",
              "1789  [LX0009520020919EZEGRUY, LX0009520020919GRUZRH...  \n",
              "1811  [LX0009520020919EZEGRUY, LX0009520020919GRUZRH...  \n",
              "1914  [LX0108120020920FRAZRHY, LX0039820020920ZRHJER...  \n",
              "1942  [LX0024720020920KHIDXBC, LX0024720020920DXBZRH...  \n",
              "1968  [LX0108120020920FRAZRHY, LX0039820020920ZRHJER...  \n",
              "1994  [LX0009520020919EZEGRUC, LX0009520020919GRUZRH...  \n",
              "2289  [LX0108120020920FRAZRHY, LX0039820020920ZRHJER...  \n",
              "2377  [LX0009520020919EZEGRUY, LX0009520020919GRUZRH...  \n",
              "2408  [LX0009520020919EZEGRUY, LX0009520020919GRUZRH...  \n",
              "2708  [LX0009520020919EZEGRUC, LX0009520020919GRUZRH...  \n",
              "2800  [LX0024720020920KHIDXBY, LX0024720020920DXBZRH...  \n",
              "2801  [LX0024720020920KHIDXBY, LX0024720020920DXBZRH...  \n",
              "2941  [LX0024720020920KHIDXBY, LX0024720020920DXBZRH...  \n",
              "3048  [LX0009520020919EZEGRUY, LX0009520020919GRUZRH...  \n",
              "3064  [LX0009520020919EZEGRUC, LX0009520020919GRUZRH...  \n",
              "3109  [LX0009520020919EZEGRUY, LX0009520020919GRUZRH...  \n",
              "3123  [LX0024720020920KHIDXBC, LX0024720020920DXBZRH...  \n",
              "3165  [LX0009520020919EZEGRUY, LX0009520020919GRUZRH...  \n",
              "3172  [LX0024720020920KHIDXBY, LX0024720020920DXBZRH...  \n",
              "3262  [LX0009520020919EZEGRUY, LX0009520020919GRUZRH...  \n",
              "3382  [LX0024720020920KHIDXBY, LX0024720020920DXBZRH...  \n",
              "3703  [LX0024720020920KHIDXBY, LX0024720020920DXBZRH...  \n",
              "3704  [LX0009520020919EZEGRUY, LX0009520020919GRUZRH...  \n",
              "4057  [LX0280720020920GVAZRHY, LX0039820020920ZRHJER...  \n",
              "5877  [LX0280720020920GVAZRHC, LX0039820020920ZRHJER...  \n",
              "6117  [LX0024720020920KHIDXBY, LX0024720020920DXBZRH...  \n",
              "6323  [LX0024720020920KHIDXBC, LX0024720020920DXBZRH...  \n",
              "6362  [LX0024720020920KHIDXBY, LX0024720020920DXBZRH...  \n",
              "6595  [LX0024720020920KHIDXBY, LX0024720020920DXBZRH...  \n",
              "7184  [LX0024720020920KHIDXBY, LX0024720020920DXBZRH...  \n",
              "7484  [LX0024720020920KHIDXBC, LX0024720020920DXBZRH...  \n",
              "7617  [LX0024720020920KHIDXBY, LX0024720020920DXBZRH...  "
            ]
          },
          "metadata": {
            "tags": []
          },
          "execution_count": 56
        }
      ]
    }
  ]
}