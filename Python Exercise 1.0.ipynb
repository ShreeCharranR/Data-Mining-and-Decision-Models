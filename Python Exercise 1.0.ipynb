{
 "cells": [
  {
   "cell_type": "markdown",
   "metadata": {},
   "source": [
    "#### 1. You will write a small program to determine the result of a rock/paper/scissor game between two players. The rules of the game are rather simple: scissors beats paper, rock beats scissors, and paper beats rock. Write a program that will generate the outcome given the choice of the two players. The program should ask for the choice of the two players and print out the outcome. Get user input on the number of rounds of the game to be played and print out the overall winner by keeping track of the number of wins/loses by each player and ties."
   ]
  },
  {
   "cell_type": "code",
   "execution_count": 2,
   "metadata": {},
   "outputs": [],
   "source": [
    "import random"
   ]
  },
  {
   "cell_type": "code",
   "execution_count": 3,
   "metadata": {},
   "outputs": [],
   "source": [
    "def check_game(input1, input2):\n",
    "    if input1 == input2:\n",
    "        return(\"Its a Tie.!\")\n",
    "    elif input1 == \"Rock\" and input2 == \"Scissor\":\n",
    "        return(\"User 1 wins\")\n",
    "    elif input1 == \"Paper\" and input2 == \"Rock\":\n",
    "        return(\"User 1 wins\")\n",
    "    elif input1 == \"Scissor\" and input2 == \"Paper\":\n",
    "        return(\"User 1 wins\")\n",
    "    else:\n",
    "        return(\"User 2 wins\")"
   ]
  },
  {
   "cell_type": "code",
   "execution_count": 6,
   "metadata": {},
   "outputs": [],
   "source": [
    "def game(user1=False,user2=False):\n",
    "    choices = [\"Rock\",\"Paper\",\"Scissor\"]\n",
    "    if user1 and user2:\n",
    "        print(\"user input 1:%s , user input 2:%s , result: %s\"%(user1, user2, check_game(user1, user2))) \n",
    "    else:\n",
    "        user1 = random.choice(choices)\n",
    "        user2 = random.choice(choices)\n",
    "        print(\"user input 1:%s , user input 2:%s , result: %s\"%(user1, user2, check_game(user1, user2))) \n",
    "    "
   ]
  },
  {
   "cell_type": "code",
   "execution_count": 9,
   "metadata": {},
   "outputs": [
    {
     "name": "stdout",
     "output_type": "stream",
     "text": [
      "user input 1:Paper , user input 2:Rock , result: User 1 wins\n"
     ]
    }
   ],
   "source": [
    "game()"
   ]
  },
  {
   "cell_type": "markdown",
   "metadata": {},
   "source": [
    "### Testcase"
   ]
  },
  {
   "cell_type": "code",
   "execution_count": 10,
   "metadata": {},
   "outputs": [
    {
     "name": "stdout",
     "output_type": "stream",
     "text": [
      "user input 1:Rock , user input 2:Rock , result: Its a Tie.!\n",
      "user input 1:Rock , user input 2:Paper , result: User 2 wins\n",
      "user input 1:Rock , user input 2:Scissor , result: User 1 wins\n",
      "user input 1:Paper , user input 2:Rock , result: User 1 wins\n",
      "user input 1:Paper , user input 2:Paper , result: Its a Tie.!\n",
      "user input 1:Paper , user input 2:Scissor , result: User 2 wins\n",
      "user input 1:Scissor , user input 2:Rock , result: User 2 wins\n",
      "user input 1:Scissor , user input 2:Paper , result: User 1 wins\n",
      "user input 1:Scissor , user input 2:Scissor , result: Its a Tie.!\n"
     ]
    }
   ],
   "source": [
    "choices1 = [\"Rock\",\"Paper\",\"Scissor\"]\n",
    "for i in choices1:\n",
    "    for j in choices1:\n",
    "        game(i,j)"
   ]
  },
  {
   "cell_type": "code",
   "execution_count": 28,
   "metadata": {},
   "outputs": [],
   "source": [
    "def simulation(n):\n",
    "    for i in range(n):\n",
    "        game()"
   ]
  },
  {
   "cell_type": "code",
   "execution_count": 29,
   "metadata": {},
   "outputs": [
    {
     "name": "stdout",
     "output_type": "stream",
     "text": [
      "user input 1:Scissor , user input 2:Scissor , result: Its a Tie.!\n",
      "user input 1:Rock , user input 2:Paper , result: User 2 wins\n",
      "user input 1:Scissor , user input 2:Rock , result: User 2 wins\n",
      "user input 1:Rock , user input 2:Scissor , result: User 1 wins\n",
      "user input 1:Rock , user input 2:Paper , result: User 2 wins\n",
      "user input 1:Rock , user input 2:Scissor , result: User 1 wins\n",
      "user input 1:Rock , user input 2:Rock , result: Its a Tie.!\n",
      "user input 1:Paper , user input 2:Rock , result: User 1 wins\n",
      "user input 1:Rock , user input 2:Rock , result: Its a Tie.!\n",
      "user input 1:Paper , user input 2:Rock , result: User 1 wins\n",
      "user input 1:Scissor , user input 2:Rock , result: User 2 wins\n",
      "user input 1:Rock , user input 2:Paper , result: User 2 wins\n",
      "user input 1:Rock , user input 2:Rock , result: Its a Tie.!\n",
      "user input 1:Paper , user input 2:Scissor , result: User 2 wins\n",
      "user input 1:Scissor , user input 2:Rock , result: User 2 wins\n"
     ]
    }
   ],
   "source": [
    "simulation(15)"
   ]
  },
  {
   "cell_type": "markdown",
   "metadata": {},
   "source": [
    "#### 2. Write a program to check if a given string is a palindrome. Also be sure to include features in the program that account for spaces in the given input string."
   ]
  },
  {
   "cell_type": "code",
   "execution_count": 12,
   "metadata": {},
   "outputs": [],
   "source": [
    "import re"
   ]
  },
  {
   "cell_type": "code",
   "execution_count": 9,
   "metadata": {},
   "outputs": [
    {
     "name": "stdout",
     "output_type": "stream",
     "text": [
      "input the stringdsf\n",
      "The string is not a palindrome\n"
     ]
    }
   ],
   "source": [
    "input_string = input(\"input the string\")\n",
    "input_string = input_string.lower()\n",
    "input_string = input_string.replace(\" \",\"\")\n",
    "if input_string==input_string[::-1]:\n",
    "    print(\"The input string is a plaindrome\")\n",
    "else:\n",
    "    print(\"The string is not a palindrome\")"
   ]
  },
  {
   "cell_type": "code",
   "execution_count": 24,
   "metadata": {},
   "outputs": [],
   "source": [
    "def is_palindrome(input_string):\n",
    "    input_string = input_string.lower()\n",
    "    input_string = \"\".join(re.split(\"[^a-zA-Z]*\", input_string))\n",
    "    if input_string==input_string[::-1]:\n",
    "        return(\"The input string is a plaindrome\")\n",
    "    else:\n",
    "        return(\"The string is not a palindrome\")"
   ]
  },
  {
   "cell_type": "markdown",
   "metadata": {},
   "source": [
    "#### Test case"
   ]
  },
  {
   "cell_type": "code",
   "execution_count": 25,
   "metadata": {},
   "outputs": [],
   "source": [
    "list_of_sentence = [\"Eva, Can I Stab Bats In A Cave?\",\n",
    "                    \"A Man, A Plan, A Canal-Panama! \",\n",
    "                    \"Madam In Eden, I’m Adam\",\n",
    "                    \"Mr. Owl Ate My Metal Worm\",\n",
    "                    \"A Santa Lived As a Devil At NASA\",\n",
    "                    \"Dammit, I’m Mad!\",\n",
    "                    \"Was It A Rat I Saw?\",\n",
    "                    \"Do Geese See God? \",\n",
    "                    \" Never Odd Or Even\",\n",
    "                    \" Doc, Note: I Dissent. A Fast Never Prevents A Fatness. I Diet On Cod.\"]"
   ]
  },
  {
   "cell_type": "code",
   "execution_count": 27,
   "metadata": {},
   "outputs": [
    {
     "name": "stdout",
     "output_type": "stream",
     "text": [
      "Eva, Can I Stab Bats In A Cave?\n",
      "The input string is a plaindrome\n",
      "\n",
      "A Man, A Plan, A Canal-Panama! \n",
      "The input string is a plaindrome\n",
      "\n",
      "Madam In Eden, I’m Adam\n",
      "The input string is a plaindrome\n",
      "\n",
      "Mr. Owl Ate My Metal Worm\n",
      "The input string is a plaindrome\n",
      "\n",
      "A Santa Lived As a Devil At NASA\n",
      "The input string is a plaindrome\n",
      "\n",
      "Dammit, I’m Mad!\n",
      "The input string is a plaindrome\n",
      "\n",
      "Was It A Rat I Saw?\n",
      "The input string is a plaindrome\n",
      "\n",
      "Do Geese See God? \n",
      "The input string is a plaindrome\n",
      "\n",
      " Never Odd Or Even\n",
      "The input string is a plaindrome\n",
      "\n",
      " Doc, Note: I Dissent. A Fast Never Prevents A Fatness. I Diet On Cod.\n",
      "The input string is a plaindrome\n",
      "\n"
     ]
    },
    {
     "name": "stderr",
     "output_type": "stream",
     "text": [
      "C:\\Users\\Lenovo\\Anaconda3\\lib\\re.py:212: FutureWarning: split() requires a non-empty pattern match.\n",
      "  return _compile(pattern, flags).split(string, maxsplit)\n"
     ]
    }
   ],
   "source": [
    "for i in list_of_sentence:\n",
    "    print(i)\n",
    "    print(is_palindrome(i)+\"\\n\")"
   ]
  },
  {
   "cell_type": "markdown",
   "metadata": {},
   "source": [
    "#### 3. Write a function to calculate the factorial of an integer using recursion."
   ]
  },
  {
   "cell_type": "code",
   "execution_count": 42,
   "metadata": {},
   "outputs": [],
   "source": [
    "def fact(n):\n",
    "    if n<0:\n",
    "        return(\"Not applicable for negative numbers\")\n",
    "    elif 0 <= n <= 1:\n",
    "        return(1)\n",
    "    else:\n",
    "        return(n*fact(n-1))"
   ]
  },
  {
   "cell_type": "markdown",
   "metadata": {},
   "source": [
    "#### Testcases"
   ]
  },
  {
   "cell_type": "code",
   "execution_count": 48,
   "metadata": {},
   "outputs": [
    {
     "data": {
      "text/plain": [
       "1"
      ]
     },
     "execution_count": 48,
     "metadata": {},
     "output_type": "execute_result"
    }
   ],
   "source": [
    "fact(0)"
   ]
  },
  {
   "cell_type": "code",
   "execution_count": 49,
   "metadata": {},
   "outputs": [
    {
     "data": {
      "text/plain": [
       "'Not applicable for negative numbers'"
      ]
     },
     "execution_count": 49,
     "metadata": {},
     "output_type": "execute_result"
    }
   ],
   "source": [
    "fact(-1)"
   ]
  },
  {
   "cell_type": "code",
   "execution_count": 50,
   "metadata": {},
   "outputs": [
    {
     "data": {
      "text/plain": [
       "720"
      ]
     },
     "execution_count": 50,
     "metadata": {},
     "output_type": "execute_result"
    }
   ],
   "source": [
    "fact(6)"
   ]
  },
  {
   "cell_type": "markdown",
   "metadata": {},
   "source": [
    "#### 4. Write a program that computes the sum of all multiple of two given smaller natural numbers below a given large natural number"
   ]
  },
  {
   "cell_type": "code",
   "execution_count": 55,
   "metadata": {},
   "outputs": [],
   "source": [
    "def sum_multiples(a, N):\n",
    "    m = N / a\n",
    "    summation = m * (m + 1) / 2\n",
    "    ans = a * summation\n",
    "    print(\"Sum of multiples of \", a,\" up to \", N, \" = \", ans)"
   ]
  },
  {
   "cell_type": "code",
   "execution_count": 58,
   "metadata": {},
   "outputs": [
    {
     "name": "stdout",
     "output_type": "stream",
     "text": [
      "Sum of multiples of  7  up to  49  =  196.0\n"
     ]
    }
   ],
   "source": [
    "sum_multiples(7,49)"
   ]
  },
  {
   "cell_type": "markdown",
   "metadata": {},
   "source": [
    "#### 5. Generate a random 20 × 20 grid of two digit natural numbers. Find the largest product of four diagonally adjacent numbers."
   ]
  },
  {
   "cell_type": "code",
   "execution_count": 63,
   "metadata": {},
   "outputs": [],
   "source": [
    "import numpy as np"
   ]
  },
  {
   "cell_type": "code",
   "execution_count": 101,
   "metadata": {},
   "outputs": [],
   "source": [
    "matrix = np.random.randint(low = 5, high = 10, size =(20,20))"
   ]
  },
  {
   "cell_type": "code",
   "execution_count": 102,
   "metadata": {},
   "outputs": [
    {
     "data": {
      "text/plain": [
       "array([[9, 7, 6, 7, 5, 8, 9, 9, 7, 7, 9, 8, 8, 8, 7, 7, 6, 9, 5, 8],\n",
       "       [7, 9, 8, 8, 9, 8, 5, 9, 5, 6, 9, 5, 9, 6, 7, 9, 7, 8, 9, 8],\n",
       "       [8, 6, 6, 5, 7, 5, 9, 9, 6, 9, 5, 5, 7, 9, 7, 7, 8, 9, 8, 5],\n",
       "       [5, 8, 8, 7, 5, 5, 5, 7, 9, 9, 8, 5, 6, 9, 5, 8, 6, 9, 6, 5],\n",
       "       [6, 8, 8, 5, 6, 6, 6, 5, 5, 6, 8, 7, 7, 8, 8, 9, 5, 9, 9, 9],\n",
       "       [8, 8, 7, 9, 9, 9, 6, 7, 9, 8, 5, 6, 9, 5, 5, 9, 9, 6, 7, 7],\n",
       "       [5, 8, 7, 6, 5, 8, 8, 9, 9, 5, 7, 6, 8, 9, 5, 5, 6, 8, 5, 6],\n",
       "       [5, 8, 6, 8, 5, 5, 6, 6, 8, 5, 9, 6, 8, 5, 5, 8, 8, 8, 8, 5],\n",
       "       [6, 6, 6, 7, 9, 6, 9, 8, 5, 7, 7, 9, 8, 5, 6, 5, 9, 8, 7, 7],\n",
       "       [7, 6, 9, 5, 5, 5, 5, 9, 5, 8, 9, 6, 9, 5, 6, 6, 9, 7, 7, 9],\n",
       "       [7, 6, 7, 6, 7, 8, 8, 8, 8, 7, 5, 6, 5, 6, 6, 9, 6, 7, 5, 8],\n",
       "       [8, 5, 5, 5, 9, 5, 7, 9, 8, 5, 9, 7, 9, 8, 9, 9, 7, 8, 6, 5],\n",
       "       [7, 6, 9, 7, 5, 7, 9, 8, 8, 6, 6, 9, 5, 5, 9, 9, 8, 6, 7, 9],\n",
       "       [9, 7, 8, 8, 9, 7, 6, 6, 7, 9, 9, 7, 6, 9, 8, 9, 7, 7, 6, 6],\n",
       "       [9, 6, 9, 8, 7, 6, 7, 8, 9, 7, 7, 6, 9, 6, 9, 9, 6, 8, 9, 9],\n",
       "       [5, 7, 5, 9, 5, 5, 9, 8, 7, 9, 5, 9, 8, 5, 5, 9, 8, 5, 5, 5],\n",
       "       [5, 7, 5, 9, 7, 7, 8, 7, 9, 5, 7, 9, 5, 9, 5, 8, 5, 6, 6, 6],\n",
       "       [7, 8, 5, 5, 8, 9, 6, 7, 7, 7, 9, 5, 5, 9, 9, 5, 5, 9, 6, 6],\n",
       "       [7, 8, 5, 8, 5, 7, 6, 8, 5, 8, 5, 8, 6, 7, 5, 9, 8, 7, 7, 8],\n",
       "       [7, 9, 5, 5, 7, 8, 9, 5, 9, 5, 9, 6, 9, 7, 6, 8, 5, 5, 9, 6]])"
      ]
     },
     "execution_count": 102,
     "metadata": {},
     "output_type": "execute_result"
    }
   ],
   "source": [
    "matrix"
   ]
  },
  {
   "cell_type": "code",
   "execution_count": 107,
   "metadata": {},
   "outputs": [
    {
     "name": "stdout",
     "output_type": "stream",
     "text": [
      "The largest_product is  6561\n"
     ]
    }
   ],
   "source": [
    "largest_prod = 0\n",
    "for i in range(19):\n",
    "    for j in range(19):\n",
    "        if largest_prod <= matrix[i,j]*matrix[i+1,j+1]*matrix[i,j+1]*matrix[i+1,j]:\n",
    "            largest_prod = matrix[i,j]*matrix[i+1,j+1]*matrix[i,j+1]*matrix[i+1,j]\n",
    "        else:\n",
    "            continue\n",
    "print(\"The largest_product is \",largest_prod)"
   ]
  }
 ],
 "metadata": {
  "kernelspec": {
   "display_name": "Python 3",
   "language": "python",
   "name": "python3"
  },
  "language_info": {
   "codemirror_mode": {
    "name": "ipython",
    "version": 3
   },
   "file_extension": ".py",
   "mimetype": "text/x-python",
   "name": "python",
   "nbconvert_exporter": "python",
   "pygments_lexer": "ipython3",
   "version": "3.6.4"
  }
 },
 "nbformat": 4,
 "nbformat_minor": 2
}
