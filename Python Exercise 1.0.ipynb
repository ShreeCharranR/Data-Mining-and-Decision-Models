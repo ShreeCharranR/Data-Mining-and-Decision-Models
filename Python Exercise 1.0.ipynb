{
 "cells": [
  {
   "cell_type": "markdown",
   "metadata": {},
   "source": [
    "1. You will write a small program to determine the result of a rock/paper/scissor game\n",
    "between two players. The rules of the game are rather simple: scissors beats paper, rock\n",
    "beats scissors, and paper beats rock. Write a program that will generate the outcome\n",
    "given the choice of the two players. The program should ask for the choice of the two\n",
    "players and print out the outcome. Get user input on the number of rounds of the\n",
    "game to be played and print out the overall winner by keeping track of the number of\n",
    "wins/loses by each player and ties."
   ]
  },
  {
   "cell_type": "code",
   "execution_count": 2,
   "metadata": {},
   "outputs": [],
   "source": [
    "import random"
   ]
  },
  {
   "cell_type": "code",
   "execution_count": 3,
   "metadata": {},
   "outputs": [],
   "source": [
    "def check_game(input1, input2):\n",
    "    if input1 == input2:\n",
    "        return(\"Its a Tie.!\")\n",
    "    elif input1 == \"Rock\" and input2 == \"Scissor\":\n",
    "        return(\"User 1 wins\")\n",
    "    elif input1 == \"Paper\" and input2 == \"Rock\":\n",
    "        return(\"User 1 wins\")\n",
    "    elif input1 == \"Scissor\" and input2 == \"Paper\":\n",
    "        return(\"User 1 wins\")\n",
    "    else:\n",
    "        return(\"User 2 wins\")"
   ]
  },
  {
   "cell_type": "code",
   "execution_count": 6,
   "metadata": {},
   "outputs": [],
   "source": [
    "def game(user1=False,user2=False):\n",
    "    choices = [\"Rock\",\"Paper\",\"Scissor\"]\n",
    "    if user1 and user2:\n",
    "        print(\"user input 1:%s , user input 2:%s , result: %s\"%(user1, user2, check_game(user1, user2))) \n",
    "    else:\n",
    "        user1 = random.choice(choices)\n",
    "        user2 = random.choice(choices)\n",
    "        print(\"user input 1:%s , user input 2:%s , result: %s\"%(user1, user2, check_game(user1, user2))) \n",
    "    "
   ]
  },
  {
   "cell_type": "code",
   "execution_count": 9,
   "metadata": {},
   "outputs": [
    {
     "name": "stdout",
     "output_type": "stream",
     "text": [
      "user input 1:Paper , user input 2:Rock , result: User 1 wins\n"
     ]
    }
   ],
   "source": [
    "game()"
   ]
  },
  {
   "cell_type": "markdown",
   "metadata": {},
   "source": [
    "### Testcase"
   ]
  },
  {
   "cell_type": "code",
   "execution_count": 10,
   "metadata": {},
   "outputs": [
    {
     "name": "stdout",
     "output_type": "stream",
     "text": [
      "user input 1:Rock , user input 2:Rock , result: Its a Tie.!\n",
      "user input 1:Rock , user input 2:Paper , result: User 2 wins\n",
      "user input 1:Rock , user input 2:Scissor , result: User 1 wins\n",
      "user input 1:Paper , user input 2:Rock , result: User 1 wins\n",
      "user input 1:Paper , user input 2:Paper , result: Its a Tie.!\n",
      "user input 1:Paper , user input 2:Scissor , result: User 2 wins\n",
      "user input 1:Scissor , user input 2:Rock , result: User 2 wins\n",
      "user input 1:Scissor , user input 2:Paper , result: User 1 wins\n",
      "user input 1:Scissor , user input 2:Scissor , result: Its a Tie.!\n"
     ]
    }
   ],
   "source": [
    "choices1 = [\"Rock\",\"Paper\",\"Scissor\"]\n",
    "for i in choices1:\n",
    "    for j in choices1:\n",
    "        game(i,j)"
   ]
  },
  {
   "cell_type": "code",
   "execution_count": 28,
   "metadata": {},
   "outputs": [],
   "source": [
    "def simulation(n):\n",
    "    for i in range(n):\n",
    "        game()"
   ]
  },
  {
   "cell_type": "code",
   "execution_count": 29,
   "metadata": {},
   "outputs": [
    {
     "name": "stdout",
     "output_type": "stream",
     "text": [
      "user input 1:Scissor , user input 2:Scissor , result: Its a Tie.!\n",
      "user input 1:Rock , user input 2:Paper , result: User 2 wins\n",
      "user input 1:Scissor , user input 2:Rock , result: User 2 wins\n",
      "user input 1:Rock , user input 2:Scissor , result: User 1 wins\n",
      "user input 1:Rock , user input 2:Paper , result: User 2 wins\n",
      "user input 1:Rock , user input 2:Scissor , result: User 1 wins\n",
      "user input 1:Rock , user input 2:Rock , result: Its a Tie.!\n",
      "user input 1:Paper , user input 2:Rock , result: User 1 wins\n",
      "user input 1:Rock , user input 2:Rock , result: Its a Tie.!\n",
      "user input 1:Paper , user input 2:Rock , result: User 1 wins\n",
      "user input 1:Scissor , user input 2:Rock , result: User 2 wins\n",
      "user input 1:Rock , user input 2:Paper , result: User 2 wins\n",
      "user input 1:Rock , user input 2:Rock , result: Its a Tie.!\n",
      "user input 1:Paper , user input 2:Scissor , result: User 2 wins\n",
      "user input 1:Scissor , user input 2:Rock , result: User 2 wins\n"
     ]
    }
   ],
   "source": [
    "simulation(15)"
   ]
  },
  {
   "cell_type": "markdown",
   "metadata": {},
   "source": [
    "2. Write a program to check if a given string is a palindrome. Also be sure to include\n",
    "   features in the program that account for spaces in the given input string."
   ]
  }
 ],
 "metadata": {
  "kernelspec": {
   "display_name": "Python 3",
   "language": "python",
   "name": "python3"
  },
  "language_info": {
   "codemirror_mode": {
    "name": "ipython",
    "version": 3
   },
   "file_extension": ".py",
   "mimetype": "text/x-python",
   "name": "python",
   "nbconvert_exporter": "python",
   "pygments_lexer": "ipython3",
   "version": "3.6.4"
  }
 },
 "nbformat": 4,
 "nbformat_minor": 2
}
